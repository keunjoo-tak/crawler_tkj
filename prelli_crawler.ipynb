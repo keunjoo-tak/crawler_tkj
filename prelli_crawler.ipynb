{
 "cells": [
  {
   "cell_type": "code",
   "execution_count": 2,
   "metadata": {},
   "outputs": [],
   "source": [
    "import requests\n",
    "import re\n",
    "from bs4 import BeautifulSoup\n",
    "import pandas as pd\n"
   ]
  },
  {
   "cell_type": "code",
   "execution_count": 3,
   "metadata": {},
   "outputs": [],
   "source": [
    "headers = {\n",
    "    \"User-Agent\": \"Mozilla/5.0 (Windows NT 11.0; WOW64) AppleWebKit/537.36 (KHTML, like Gecko) Chrome/98.0.4758.102 Safari/537.36 NetHelper70\"}   "
   ]
  },
  {
   "cell_type": "code",
   "execution_count": 40,
   "metadata": {},
   "outputs": [],
   "source": [
    "url = \"https://www.pirelli.com/global/en-ww/articles/tag/heroes/page/2\" #.format(pKeyword,i)\n",
    "\n",
    "res = requests.get(url=url, headers=headers)\n",
    "res.raise_for_status()\n",
    "soup = BeautifulSoup(res.text, \"lxml\")\n",
    "contents1 = soup.find_all(\"a\", attrs={\"class\": \"overlaylink\"})\n",
    "\n",
    "url = \"https://www.pirelli.com/global/en-ww/articles/tag/heroes/page/3\" #.format(pKeyword,i)\n",
    "\n",
    "res = requests.get(url=url, headers=headers)\n",
    "res.raise_for_status()\n",
    "soup = BeautifulSoup(res.text, \"lxml\")\n",
    "contents2 = soup.find_all(\"a\", attrs={\"class\": \"overlaylink\"})"
   ]
  },
  {
   "cell_type": "code",
   "execution_count": 48,
   "metadata": {},
   "outputs": [
    {
     "data": {
      "text/plain": [
       "[<a class=\"overlaylink\" href=\"https://racingspot.pirelli.com/global/en-ww/race/the-aston-man\"></a>,\n",
       " <a class=\"overlaylink\" href=\"https://racingspot.pirelli.com/global/en-ww/race/hungry-like-the-wolf\"></a>,\n",
       " <a class=\"overlaylink\" href=\"https://racingspot.pirelli.com/global/en-ww/race/rally-champion-walter-rohrl\"></a>,\n",
       " <a class=\"overlaylink\" href=\"https://racingspot.pirelli.com/global/en-ww/race/the-two-legends-that-inspire-erik-comas\"></a>,\n",
       " <a class=\"overlaylink\" href=\"https://racingspot.pirelli.com/global/en-ww/race/the-bernie-ecclestone-of-gt-racing-not-quite\"></a>,\n",
       " <a class=\"overlaylink\" href=\"https://racingspot.pirelli.com/global/en-ww/race/interview-to-emerson-fittipaldi\"></a>,\n",
       " <a class=\"overlaylink\" href=\"https://racingspot.pirelli.com/global/en-ww/race/five-questions-to-mario-isola-pirelli-racing-manager\"></a>,\n",
       " <a class=\"overlaylink\" href=\"https://racingspot.pirelli.com/global/en-ww/race/new-tyres-new-team-new-champion\"></a>,\n",
       " <a class=\"overlaylink\" href=\"https://www.pirelli.com/global/en-ww/race/who-are-the-top-10-american-f1-drivers-of-all-time\"></a>,\n",
       " <a class=\"overlaylink\" href=\"https://racingspot.pirelli.com/global/en-ww/race/being-ayrton-senna\"></a>,\n",
       " <a class=\"overlaylink\" href=\"https://veloworld.pirelli.com/global/en-ww/race/an-interview-with-peter-sagan\"></a>,\n",
       " <a class=\"overlaylink\" href=\"https://racingspot.pirelli.com/global/en-ww/race/busman-s-holiday\"></a>]"
      ]
     },
     "execution_count": 48,
     "metadata": {},
     "output_type": "execute_result"
    }
   ],
   "source": [
    "contents1\n"
   ]
  },
  {
   "cell_type": "code",
   "execution_count": 57,
   "metadata": {},
   "outputs": [
    {
     "name": "stdout",
     "output_type": "stream",
     "text": [
      "['race/the-aston-man', 'race/hungry-like-the-wolf', 'race/rally-champion-walter-rohrl', 'race/the-two-legends-that-inspire-erik-comas', 'race/the-bernie-ecclestone-of-gt-racing-not-quite', 'race/interview-to-emerson-fittipaldi', 'race/five-questions-to-mario-isola-pirelli-racing-manager', 'race/new-tyres-new-team-new-champion', 'race/who-are-the-top-10-american-f1-drivers-of-all-time', 'race/being-ayrton-senna', 'https://veloworld.pirelli.com/global/en-ww/race/an-interview-with-peter-sagan', 'race/busman-s-holiday']\n"
     ]
    }
   ],
   "source": [
    "if '/race/' in str(contents1)  :\n",
    "    cont1 = [content['href'].replace(\"https://racingspot.pirelli.com/global/en-ww/\", \"\") for content in contents1]\n",
    "    if 'https://www.pirelli.com/global/en-ww/' in str(cont1) :\n",
    "        cont1 = [content.replace(\"https://www.pirelli.com/global/en-ww/\", \"\") for content in cont1]\n",
    "        print(cont1)\n",
    "else :\n",
    "    cont1 = [content['href'].replace(\"https://www.pirelli.com/global/en-ww/\", \"\") for content in contents1]\n",
    "    print('contents1 : not race')\n",
    "\n",
    "if '/race/' in str(contents2) :\n",
    "    cont2 = [content['href'].replace(\"https://racingspot.pirelli.com/global/en-ww/\", \"\") for content in contents2]\n",
    "    if 'https://www.pirelli.com/global/en-ww/' in str(cont1) :\n",
    "        cont2 = [content.replace(\"https://www.pirelli.com/global/en-ww/\", \"\") for content in cont2]\n",
    "else :\n",
    "    cont2 = [content['href'].replace(\"https://www.pirelli.com/global/en-ww/\", \"\") for content in contents2]\n",
    "    print('contents2 : not race')\n",
    "\n",
    "# print(cont2)\n",
    "\n",
    "# if len(cont2)==0 : \n",
    "#     print('이건 없는거야')\n",
    "\n",
    "# contcont = cont1+cont2\n",
    "# contcont = [str(con).split('/') for con in contcont]\n",
    "# contcont_df = pd.DataFrame(contcont, columns = ['category','title'])\n",
    "# print(contcont_df)"
   ]
  },
  {
   "cell_type": "code",
   "execution_count": 38,
   "metadata": {},
   "outputs": [],
   "source": [
    "import requests\n",
    "import re\n",
    "from bs4 import BeautifulSoup\n",
    "import pandas as pd\n",
    "\n",
    "def Pirelli_story(pEndpage=int):\n",
    "    pCategory = input(\"카테고리를 입력하세요................. : ('car','velo','winter','travel','smart mobility','moto','p zero','supercars','safety first','formula 1','gran turismo','superbike','rally','cycling','other competitions','classic','heroes','luna rossa','pirelli calendar','pirelli hangarbicocca','pirelli design','fondazione pirelli','culture','pirelli world','people','history','lifestyle','business','sustainability','inter','thinking ahead')\")\n",
    "    \n",
    "    category_list = ['car','velo','winter','travel','smart mobility','moto','p zero','supercars','safety first','formula 1','gran turismo','superbike','rally','cycling','other competitions','classic','heroes','luna rossa','pirelli calendar','pirelli hangarbicocca','pirelli design','fondazione pirelli','culture','pirelli world','people','history','lifestyle','business','sustainability','inter','thinking ahead']\n",
    "\n",
    "    if not any(pCategory in keyword for keyword in category_list) : \n",
    "        return print('잘못된 키워드를 입력했습니다.')\n",
    "    else :\n",
    "        pass\n",
    "    \n",
    "    results = []\n",
    "\n",
    "    for i in range(1, pEndpage):\n",
    "        url = \"https://www.pirelli.com/global/en-ww/articles/tag/{}/page/{}\".format(pCategory, i)\n",
    "        res = requests.get(url=url)\n",
    "        res.raise_for_status()\n",
    "        soup = BeautifulSoup(res.text, \"lxml\")\n",
    "\n",
    "        contents = soup.find_all(\"a\", attrs={\"class\": \"overlaylink\"})\n",
    "        if len(contents) == 0 :\n",
    "            print( f\"{i}page : 빈 페이지에 도달했습니다.\")\n",
    "            break\n",
    "        else :\n",
    "            # cont = [content['href'].replace(\"https://racingspot.pirelli.com/global/en-ww/\", \"\") for content in contents] \n",
    "            # cont = [content['href'].replace(\"https://www.pirelli.com/global/en-ww/\", \"\") for content in contents]\n",
    "            \n",
    "            if '/race/' in str(contents[0]) :\n",
    "                cont = [content['href'].replace(\"https://racingspot.pirelli.com/global/en-ww/\", \"\") for content in contents]\n",
    "            else:\n",
    "                cont = [content['href'].replace(\"https://www.pirelli.com/global/en-ww/\", \"\") for content in contents]\n",
    "        results = results + cont\n",
    "            \n",
    "    results = [str(result).split('/') for result in results]\n",
    "    results = pd.DataFrame(results, columns = ['category','title'])\n",
    "    print(results)\n",
    "    return results.to_csv(\"pirelli_story_title.csv\", encoding='utf-8-sig')"
   ]
  },
  {
   "cell_type": "code",
   "execution_count": 39,
   "metadata": {},
   "outputs": [
    {
     "name": "stdout",
     "output_type": "stream",
     "text": [
      "5page : 빈 페이지에 도달했습니다.\n"
     ]
    },
    {
     "ename": "ValueError",
     "evalue": "2 columns passed, passed data had 7 columns",
     "output_type": "error",
     "traceback": [
      "\u001b[1;31m---------------------------------------------------------------------------\u001b[0m",
      "\u001b[1;31mAssertionError\u001b[0m                            Traceback (most recent call last)",
      "File \u001b[1;32md:\\dev\\git\\crawler_tkj\\.venv\\lib\\site-packages\\pandas\\core\\internals\\construction.py:982\u001b[0m, in \u001b[0;36m_finalize_columns_and_data\u001b[1;34m(content, columns, dtype)\u001b[0m\n\u001b[0;32m    <a href='file:///d%3A/dev/git/crawler_tkj/.venv/lib/site-packages/pandas/core/internals/construction.py?line=980'>981</a>\u001b[0m \u001b[39mtry\u001b[39;00m:\n\u001b[1;32m--> <a href='file:///d%3A/dev/git/crawler_tkj/.venv/lib/site-packages/pandas/core/internals/construction.py?line=981'>982</a>\u001b[0m     columns \u001b[39m=\u001b[39m _validate_or_indexify_columns(contents, columns)\n\u001b[0;32m    <a href='file:///d%3A/dev/git/crawler_tkj/.venv/lib/site-packages/pandas/core/internals/construction.py?line=982'>983</a>\u001b[0m \u001b[39mexcept\u001b[39;00m \u001b[39mAssertionError\u001b[39;00m \u001b[39mas\u001b[39;00m err:\n\u001b[0;32m    <a href='file:///d%3A/dev/git/crawler_tkj/.venv/lib/site-packages/pandas/core/internals/construction.py?line=983'>984</a>\u001b[0m     \u001b[39m# GH#26429 do not raise user-facing AssertionError\u001b[39;00m\n",
      "File \u001b[1;32md:\\dev\\git\\crawler_tkj\\.venv\\lib\\site-packages\\pandas\\core\\internals\\construction.py:1030\u001b[0m, in \u001b[0;36m_validate_or_indexify_columns\u001b[1;34m(content, columns)\u001b[0m\n\u001b[0;32m   <a href='file:///d%3A/dev/git/crawler_tkj/.venv/lib/site-packages/pandas/core/internals/construction.py?line=1027'>1028</a>\u001b[0m \u001b[39mif\u001b[39;00m \u001b[39mnot\u001b[39;00m is_mi_list \u001b[39mand\u001b[39;00m \u001b[39mlen\u001b[39m(columns) \u001b[39m!=\u001b[39m \u001b[39mlen\u001b[39m(content):  \u001b[39m# pragma: no cover\u001b[39;00m\n\u001b[0;32m   <a href='file:///d%3A/dev/git/crawler_tkj/.venv/lib/site-packages/pandas/core/internals/construction.py?line=1028'>1029</a>\u001b[0m     \u001b[39m# caller's responsibility to check for this...\u001b[39;00m\n\u001b[1;32m-> <a href='file:///d%3A/dev/git/crawler_tkj/.venv/lib/site-packages/pandas/core/internals/construction.py?line=1029'>1030</a>\u001b[0m     \u001b[39mraise\u001b[39;00m \u001b[39mAssertionError\u001b[39;00m(\n\u001b[0;32m   <a href='file:///d%3A/dev/git/crawler_tkj/.venv/lib/site-packages/pandas/core/internals/construction.py?line=1030'>1031</a>\u001b[0m         \u001b[39mf\u001b[39m\u001b[39m\"\u001b[39m\u001b[39m{\u001b[39;00m\u001b[39mlen\u001b[39m(columns)\u001b[39m}\u001b[39;00m\u001b[39m columns passed, passed data had \u001b[39m\u001b[39m\"\u001b[39m\n\u001b[0;32m   <a href='file:///d%3A/dev/git/crawler_tkj/.venv/lib/site-packages/pandas/core/internals/construction.py?line=1031'>1032</a>\u001b[0m         \u001b[39mf\u001b[39m\u001b[39m\"\u001b[39m\u001b[39m{\u001b[39;00m\u001b[39mlen\u001b[39m(content)\u001b[39m}\u001b[39;00m\u001b[39m columns\u001b[39m\u001b[39m\"\u001b[39m\n\u001b[0;32m   <a href='file:///d%3A/dev/git/crawler_tkj/.venv/lib/site-packages/pandas/core/internals/construction.py?line=1032'>1033</a>\u001b[0m     )\n\u001b[0;32m   <a href='file:///d%3A/dev/git/crawler_tkj/.venv/lib/site-packages/pandas/core/internals/construction.py?line=1033'>1034</a>\u001b[0m \u001b[39melif\u001b[39;00m is_mi_list:\n\u001b[0;32m   <a href='file:///d%3A/dev/git/crawler_tkj/.venv/lib/site-packages/pandas/core/internals/construction.py?line=1034'>1035</a>\u001b[0m \n\u001b[0;32m   <a href='file:///d%3A/dev/git/crawler_tkj/.venv/lib/site-packages/pandas/core/internals/construction.py?line=1035'>1036</a>\u001b[0m     \u001b[39m# check if nested list column, length of each sub-list should be equal\u001b[39;00m\n",
      "\u001b[1;31mAssertionError\u001b[0m: 2 columns passed, passed data had 7 columns",
      "\nThe above exception was the direct cause of the following exception:\n",
      "\u001b[1;31mValueError\u001b[0m                                Traceback (most recent call last)",
      "\u001b[1;32md:\\dev\\git\\crawler_tkj\\prelli_crawler.ipynb Cell 7'\u001b[0m in \u001b[0;36m<cell line: 1>\u001b[1;34m()\u001b[0m\n\u001b[1;32m----> <a href='vscode-notebook-cell:/d%3A/dev/git/crawler_tkj/prelli_crawler.ipynb#ch0000005?line=0'>1</a>\u001b[0m Pirelli_story(\u001b[39m7\u001b[39;49m)\n",
      "\u001b[1;32md:\\dev\\git\\crawler_tkj\\prelli_crawler.ipynb Cell 6'\u001b[0m in \u001b[0;36mPirelli_story\u001b[1;34m(pEndpage)\u001b[0m\n\u001b[0;32m     <a href='vscode-notebook-cell:/d%3A/dev/git/crawler_tkj/prelli_crawler.ipynb#ch0000004?line=35'>36</a>\u001b[0m     results \u001b[39m=\u001b[39m results \u001b[39m+\u001b[39m cont\n\u001b[0;32m     <a href='vscode-notebook-cell:/d%3A/dev/git/crawler_tkj/prelli_crawler.ipynb#ch0000004?line=37'>38</a>\u001b[0m results \u001b[39m=\u001b[39m [\u001b[39mstr\u001b[39m(result)\u001b[39m.\u001b[39msplit(\u001b[39m'\u001b[39m\u001b[39m/\u001b[39m\u001b[39m'\u001b[39m) \u001b[39mfor\u001b[39;00m result \u001b[39min\u001b[39;00m results]\n\u001b[1;32m---> <a href='vscode-notebook-cell:/d%3A/dev/git/crawler_tkj/prelli_crawler.ipynb#ch0000004?line=38'>39</a>\u001b[0m results \u001b[39m=\u001b[39m pd\u001b[39m.\u001b[39;49mDataFrame(results, columns \u001b[39m=\u001b[39;49m [\u001b[39m'\u001b[39;49m\u001b[39mcategory\u001b[39;49m\u001b[39m'\u001b[39;49m,\u001b[39m'\u001b[39;49m\u001b[39mtitle\u001b[39;49m\u001b[39m'\u001b[39;49m])\n\u001b[0;32m     <a href='vscode-notebook-cell:/d%3A/dev/git/crawler_tkj/prelli_crawler.ipynb#ch0000004?line=39'>40</a>\u001b[0m \u001b[39mprint\u001b[39m(results)\n\u001b[0;32m     <a href='vscode-notebook-cell:/d%3A/dev/git/crawler_tkj/prelli_crawler.ipynb#ch0000004?line=40'>41</a>\u001b[0m \u001b[39mreturn\u001b[39;00m results\u001b[39m.\u001b[39mto_csv(\u001b[39m\"\u001b[39m\u001b[39mpirelli_story_title.csv\u001b[39m\u001b[39m\"\u001b[39m, encoding\u001b[39m=\u001b[39m\u001b[39m'\u001b[39m\u001b[39mutf-8-sig\u001b[39m\u001b[39m'\u001b[39m)\n",
      "File \u001b[1;32md:\\dev\\git\\crawler_tkj\\.venv\\lib\\site-packages\\pandas\\core\\frame.py:721\u001b[0m, in \u001b[0;36mDataFrame.__init__\u001b[1;34m(self, data, index, columns, dtype, copy)\u001b[0m\n\u001b[0;32m    <a href='file:///d%3A/dev/git/crawler_tkj/.venv/lib/site-packages/pandas/core/frame.py?line=715'>716</a>\u001b[0m     \u001b[39mif\u001b[39;00m columns \u001b[39mis\u001b[39;00m \u001b[39mnot\u001b[39;00m \u001b[39mNone\u001b[39;00m:\n\u001b[0;32m    <a href='file:///d%3A/dev/git/crawler_tkj/.venv/lib/site-packages/pandas/core/frame.py?line=716'>717</a>\u001b[0m         \u001b[39m# error: Argument 1 to \"ensure_index\" has incompatible type\u001b[39;00m\n\u001b[0;32m    <a href='file:///d%3A/dev/git/crawler_tkj/.venv/lib/site-packages/pandas/core/frame.py?line=717'>718</a>\u001b[0m         \u001b[39m# \"Collection[Any]\"; expected \"Union[Union[Union[ExtensionArray,\u001b[39;00m\n\u001b[0;32m    <a href='file:///d%3A/dev/git/crawler_tkj/.venv/lib/site-packages/pandas/core/frame.py?line=718'>719</a>\u001b[0m         \u001b[39m# ndarray], Index, Series], Sequence[Any]]\"\u001b[39;00m\n\u001b[0;32m    <a href='file:///d%3A/dev/git/crawler_tkj/.venv/lib/site-packages/pandas/core/frame.py?line=719'>720</a>\u001b[0m         columns \u001b[39m=\u001b[39m ensure_index(columns)  \u001b[39m# type: ignore[arg-type]\u001b[39;00m\n\u001b[1;32m--> <a href='file:///d%3A/dev/git/crawler_tkj/.venv/lib/site-packages/pandas/core/frame.py?line=720'>721</a>\u001b[0m     arrays, columns, index \u001b[39m=\u001b[39m nested_data_to_arrays(\n\u001b[0;32m    <a href='file:///d%3A/dev/git/crawler_tkj/.venv/lib/site-packages/pandas/core/frame.py?line=721'>722</a>\u001b[0m         \u001b[39m# error: Argument 3 to \"nested_data_to_arrays\" has incompatible\u001b[39;49;00m\n\u001b[0;32m    <a href='file:///d%3A/dev/git/crawler_tkj/.venv/lib/site-packages/pandas/core/frame.py?line=722'>723</a>\u001b[0m         \u001b[39m# type \"Optional[Collection[Any]]\"; expected \"Optional[Index]\"\u001b[39;49;00m\n\u001b[0;32m    <a href='file:///d%3A/dev/git/crawler_tkj/.venv/lib/site-packages/pandas/core/frame.py?line=723'>724</a>\u001b[0m         data,\n\u001b[0;32m    <a href='file:///d%3A/dev/git/crawler_tkj/.venv/lib/site-packages/pandas/core/frame.py?line=724'>725</a>\u001b[0m         columns,\n\u001b[0;32m    <a href='file:///d%3A/dev/git/crawler_tkj/.venv/lib/site-packages/pandas/core/frame.py?line=725'>726</a>\u001b[0m         index,  \u001b[39m# type: ignore[arg-type]\u001b[39;49;00m\n\u001b[0;32m    <a href='file:///d%3A/dev/git/crawler_tkj/.venv/lib/site-packages/pandas/core/frame.py?line=726'>727</a>\u001b[0m         dtype,\n\u001b[0;32m    <a href='file:///d%3A/dev/git/crawler_tkj/.venv/lib/site-packages/pandas/core/frame.py?line=727'>728</a>\u001b[0m     )\n\u001b[0;32m    <a href='file:///d%3A/dev/git/crawler_tkj/.venv/lib/site-packages/pandas/core/frame.py?line=728'>729</a>\u001b[0m     mgr \u001b[39m=\u001b[39m arrays_to_mgr(\n\u001b[0;32m    <a href='file:///d%3A/dev/git/crawler_tkj/.venv/lib/site-packages/pandas/core/frame.py?line=729'>730</a>\u001b[0m         arrays,\n\u001b[0;32m    <a href='file:///d%3A/dev/git/crawler_tkj/.venv/lib/site-packages/pandas/core/frame.py?line=730'>731</a>\u001b[0m         columns,\n\u001b[1;32m   (...)\u001b[0m\n\u001b[0;32m    <a href='file:///d%3A/dev/git/crawler_tkj/.venv/lib/site-packages/pandas/core/frame.py?line=733'>734</a>\u001b[0m         typ\u001b[39m=\u001b[39mmanager,\n\u001b[0;32m    <a href='file:///d%3A/dev/git/crawler_tkj/.venv/lib/site-packages/pandas/core/frame.py?line=734'>735</a>\u001b[0m     )\n\u001b[0;32m    <a href='file:///d%3A/dev/git/crawler_tkj/.venv/lib/site-packages/pandas/core/frame.py?line=735'>736</a>\u001b[0m \u001b[39melse\u001b[39;00m:\n",
      "File \u001b[1;32md:\\dev\\git\\crawler_tkj\\.venv\\lib\\site-packages\\pandas\\core\\internals\\construction.py:519\u001b[0m, in \u001b[0;36mnested_data_to_arrays\u001b[1;34m(data, columns, index, dtype)\u001b[0m\n\u001b[0;32m    <a href='file:///d%3A/dev/git/crawler_tkj/.venv/lib/site-packages/pandas/core/internals/construction.py?line=515'>516</a>\u001b[0m \u001b[39mif\u001b[39;00m is_named_tuple(data[\u001b[39m0\u001b[39m]) \u001b[39mand\u001b[39;00m columns \u001b[39mis\u001b[39;00m \u001b[39mNone\u001b[39;00m:\n\u001b[0;32m    <a href='file:///d%3A/dev/git/crawler_tkj/.venv/lib/site-packages/pandas/core/internals/construction.py?line=516'>517</a>\u001b[0m     columns \u001b[39m=\u001b[39m ensure_index(data[\u001b[39m0\u001b[39m]\u001b[39m.\u001b[39m_fields)\n\u001b[1;32m--> <a href='file:///d%3A/dev/git/crawler_tkj/.venv/lib/site-packages/pandas/core/internals/construction.py?line=518'>519</a>\u001b[0m arrays, columns \u001b[39m=\u001b[39m to_arrays(data, columns, dtype\u001b[39m=\u001b[39;49mdtype)\n\u001b[0;32m    <a href='file:///d%3A/dev/git/crawler_tkj/.venv/lib/site-packages/pandas/core/internals/construction.py?line=519'>520</a>\u001b[0m columns \u001b[39m=\u001b[39m ensure_index(columns)\n\u001b[0;32m    <a href='file:///d%3A/dev/git/crawler_tkj/.venv/lib/site-packages/pandas/core/internals/construction.py?line=521'>522</a>\u001b[0m \u001b[39mif\u001b[39;00m index \u001b[39mis\u001b[39;00m \u001b[39mNone\u001b[39;00m:\n",
      "File \u001b[1;32md:\\dev\\git\\crawler_tkj\\.venv\\lib\\site-packages\\pandas\\core\\internals\\construction.py:883\u001b[0m, in \u001b[0;36mto_arrays\u001b[1;34m(data, columns, dtype)\u001b[0m\n\u001b[0;32m    <a href='file:///d%3A/dev/git/crawler_tkj/.venv/lib/site-packages/pandas/core/internals/construction.py?line=879'>880</a>\u001b[0m     data \u001b[39m=\u001b[39m [\u001b[39mtuple\u001b[39m(x) \u001b[39mfor\u001b[39;00m x \u001b[39min\u001b[39;00m data]\n\u001b[0;32m    <a href='file:///d%3A/dev/git/crawler_tkj/.venv/lib/site-packages/pandas/core/internals/construction.py?line=880'>881</a>\u001b[0m     arr \u001b[39m=\u001b[39m _list_to_arrays(data)\n\u001b[1;32m--> <a href='file:///d%3A/dev/git/crawler_tkj/.venv/lib/site-packages/pandas/core/internals/construction.py?line=882'>883</a>\u001b[0m content, columns \u001b[39m=\u001b[39m _finalize_columns_and_data(arr, columns, dtype)\n\u001b[0;32m    <a href='file:///d%3A/dev/git/crawler_tkj/.venv/lib/site-packages/pandas/core/internals/construction.py?line=883'>884</a>\u001b[0m \u001b[39mreturn\u001b[39;00m content, columns\n",
      "File \u001b[1;32md:\\dev\\git\\crawler_tkj\\.venv\\lib\\site-packages\\pandas\\core\\internals\\construction.py:985\u001b[0m, in \u001b[0;36m_finalize_columns_and_data\u001b[1;34m(content, columns, dtype)\u001b[0m\n\u001b[0;32m    <a href='file:///d%3A/dev/git/crawler_tkj/.venv/lib/site-packages/pandas/core/internals/construction.py?line=981'>982</a>\u001b[0m     columns \u001b[39m=\u001b[39m _validate_or_indexify_columns(contents, columns)\n\u001b[0;32m    <a href='file:///d%3A/dev/git/crawler_tkj/.venv/lib/site-packages/pandas/core/internals/construction.py?line=982'>983</a>\u001b[0m \u001b[39mexcept\u001b[39;00m \u001b[39mAssertionError\u001b[39;00m \u001b[39mas\u001b[39;00m err:\n\u001b[0;32m    <a href='file:///d%3A/dev/git/crawler_tkj/.venv/lib/site-packages/pandas/core/internals/construction.py?line=983'>984</a>\u001b[0m     \u001b[39m# GH#26429 do not raise user-facing AssertionError\u001b[39;00m\n\u001b[1;32m--> <a href='file:///d%3A/dev/git/crawler_tkj/.venv/lib/site-packages/pandas/core/internals/construction.py?line=984'>985</a>\u001b[0m     \u001b[39mraise\u001b[39;00m \u001b[39mValueError\u001b[39;00m(err) \u001b[39mfrom\u001b[39;00m \u001b[39merr\u001b[39;00m\n\u001b[0;32m    <a href='file:///d%3A/dev/git/crawler_tkj/.venv/lib/site-packages/pandas/core/internals/construction.py?line=986'>987</a>\u001b[0m \u001b[39mif\u001b[39;00m \u001b[39mlen\u001b[39m(contents) \u001b[39mand\u001b[39;00m contents[\u001b[39m0\u001b[39m]\u001b[39m.\u001b[39mdtype \u001b[39m==\u001b[39m np\u001b[39m.\u001b[39mobject_:\n\u001b[0;32m    <a href='file:///d%3A/dev/git/crawler_tkj/.venv/lib/site-packages/pandas/core/internals/construction.py?line=987'>988</a>\u001b[0m     contents \u001b[39m=\u001b[39m _convert_object_array(contents, dtype\u001b[39m=\u001b[39mdtype)\n",
      "\u001b[1;31mValueError\u001b[0m: 2 columns passed, passed data had 7 columns"
     ]
    }
   ],
   "source": [
    "Pirelli_story(7)"
   ]
  },
  {
   "cell_type": "code",
   "execution_count": null,
   "metadata": {},
   "outputs": [],
   "source": []
  }
 ],
 "metadata": {
  "interpreter": {
   "hash": "4d8bc9e45fc60d0149fca7b5efcc3fb882f446b4653e7171bbc4cc4114fc329f"
  },
  "kernelspec": {
   "display_name": "Python 3.8.10 ('.venv': venv)",
   "language": "python",
   "name": "python3"
  },
  "language_info": {
   "codemirror_mode": {
    "name": "ipython",
    "version": 3
   },
   "file_extension": ".py",
   "mimetype": "text/x-python",
   "name": "python",
   "nbconvert_exporter": "python",
   "pygments_lexer": "ipython3",
   "version": "3.8.10"
  },
  "orig_nbformat": 4
 },
 "nbformat": 4,
 "nbformat_minor": 2
}
