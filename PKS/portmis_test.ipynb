{
 "cells": [
  {
   "cell_type": "code",
   "execution_count": 1,
   "metadata": {},
   "outputs": [],
   "source": [
    "from selenium import webdriver\n",
    "from selenium.webdriver.common.by import By\n",
    "from selenium.webdriver.support.ui import WebDriverWait, Select\n",
    "from selenium.webdriver.support import expected_conditions as EC\n",
    "from selenium.webdriver.common.action_chains import ActionChains\n",
    "from selenium.webdriver.common.keys import Keys\n",
    "import time\n",
    "import pandas as pd"
   ]
  },
  {
   "cell_type": "code",
   "execution_count": 48,
   "metadata": {},
   "outputs": [
    {
     "name": "stderr",
     "output_type": "stream",
     "text": [
      "C:\\Users\\user\\AppData\\Local\\Temp\\ipykernel_18728\\1860911095.py:9: DeprecationWarning: executable_path has been deprecated, please pass in a Service object\n",
      "  driver = webdriver.Chrome(driver_path, options=options)\n"
     ]
    }
   ],
   "source": [
    "# Chrome 드라이버 위치 설정\n",
    "driver_path = 'D:\\chromedriver_win32\\chromedriver'\n",
    "\n",
    "# Chrome 드라이버 옵션 설정\n",
    "options = webdriver.ChromeOptions()\n",
    "options.add_argument('window-size=1920x1080')  # 화면 크기 설정\n",
    "\n",
    "# Chrome 드라이버 실행\n",
    "driver = webdriver.Chrome(driver_path, options=options)\n",
    "\n",
    "# 웹사이트 접속\n",
    "url = 'https://new.portmis.go.kr/portmis/websquare/websquare.jsp?w2xPath=/portmis/w2/main/index.xml&page=/portmis/w2/cm/sys/UI-PM-MT-001-021.xml&menuId=0045&menuCd=M4735&menuNm=%ED%86%B5%ED%95%A9%ED%99%94%EB%AC%BC%EC%A0%95%EB%B3%B4'\n",
    "driver.get(url)"
   ]
  },
  {
   "cell_type": "code",
   "execution_count": 49,
   "metadata": {},
   "outputs": [
    {
     "name": "stderr",
     "output_type": "stream",
     "text": [
      "C:\\Users\\user\\AppData\\Local\\Temp\\ipykernel_18728\\1915570299.py:8: DeprecationWarning: find_element_by_xpath is deprecated. Please use find_element(by=By.XPATH, value=xpath) instead\n",
      "  id_input = driver.find_element_by_xpath('//*[@id=\"mf_frameLogin1_login1_id\"]')\n",
      "C:\\Users\\user\\AppData\\Local\\Temp\\ipykernel_18728\\1915570299.py:12: DeprecationWarning: find_element_by_xpath is deprecated. Please use find_element(by=By.XPATH, value=xpath) instead\n",
      "  password_input = driver.find_element_by_xpath('//*[@id=\"mf_frameLogin1_login1_pw\"]')\n"
     ]
    }
   ],
   "source": [
    "# 로그인 버튼 클릭\n",
    "login_button_locator = (By.XPATH, '//*[@id=\"mf_tacMain_contents_M4735_body_btn_goLogin\"]')  # 버튼의 XPath 설정\n",
    "wait = WebDriverWait(driver, 10)  # 10초간 대기\n",
    "button = wait.until(EC.element_to_be_clickable(login_button_locator))  # 버튼이 클릭 가능할 때까지 대기\n",
    "button.click()\n",
    "\n",
    "# ID 입력\n",
    "id_input = driver.find_element_by_xpath('//*[@id=\"mf_frameLogin1_login1_id\"]')\n",
    "id_input.send_keys('sinokor01')\n",
    "\n",
    "# Password 입력\n",
    "password_input = driver.find_element_by_xpath('//*[@id=\"mf_frameLogin1_login1_pw\"]')\n",
    "password_input.send_keys('sinokor012!')\n",
    "\n",
    "# Enter 키 입력\n",
    "password_input.send_keys(Keys.RETURN)\n",
    "\n",
    "# 2초 대기\n",
    "time.sleep(2)\n",
    "\n",
    "# 웹사이트 재접속\n",
    "url = 'https://new.portmis.go.kr/portmis/websquare/websquare.jsp?w2xPath=/portmis/w2/main/index.xml&page=/portmis/w2/cm/sys/UI-PM-MT-001-021.xml&menuId=0045&menuCd=M4735&menuNm=%ED%86%B5%ED%95%A9%ED%99%94%EB%AC%BC%EC%A0%95%EB%B3%B4'\n",
    "driver.get(url)"
   ]
  },
  {
   "cell_type": "code",
   "execution_count": 50,
   "metadata": {},
   "outputs": [
    {
     "name": "stdout",
     "output_type": "stream",
     "text": [
      "통합화물정보 버튼 클릭 완료\n"
     ]
    }
   ],
   "source": [
    "# 통합화물정보 버튼을 찾아 클릭\n",
    "try:\n",
    "    button = WebDriverWait(driver, 10).until(\n",
    "        EC.element_to_be_clickable((By.XPATH, '//*[@id=\"mf_tacMain_contents_M4735_body_genMenuLevel1_2_genMenuLevel2_3_genMenuLevel3_1_btnMenuLevel3\"]'))\n",
    "    )\n",
    "    button.click()\n",
    "    print('통합화물정보 버튼 클릭 완료')\n",
    "except:\n",
    "    print('통합화물정보 버튼을 찾을 수 없습니다.')"
   ]
  },
  {
   "cell_type": "code",
   "execution_count": 51,
   "metadata": {},
   "outputs": [
    {
     "name": "stderr",
     "output_type": "stream",
     "text": [
      "C:\\Users\\user\\AppData\\Local\\Temp\\ipykernel_18728\\3388689947.py:2: DeprecationWarning: find_element_by_* commands are deprecated. Please use find_element() instead\n",
      "  chungcode_input = driver.find_element_by_id('mf_tacMain_contents_M9033_body_udc_prtAgCd_cmmCd')\n",
      "C:\\Users\\user\\AppData\\Local\\Temp\\ipykernel_18728\\3388689947.py:3: DeprecationWarning: find_element_by_* commands are deprecated. Please use find_element() instead\n",
      "  hoculbuho_input = driver.find_element_by_id('mf_tacMain_contents_M9033_body_udc_clsgn_cmmCd')\n",
      "C:\\Users\\user\\AppData\\Local\\Temp\\ipykernel_18728\\3388689947.py:4: DeprecationWarning: find_element_by_* commands are deprecated. Please use find_element() instead\n",
      "  iphangnyeundo_input = driver.find_element_by_id('mf_tacMain_contents_M9033_body_udc_etrypt_cmmCd')\n",
      "C:\\Users\\user\\AppData\\Local\\Temp\\ipykernel_18728\\3388689947.py:5: DeprecationWarning: find_element_by_* commands are deprecated. Please use find_element() instead\n",
      "  iphanghoetsu_input = driver.find_element_by_id('mf_tacMain_contents_M9033_body_udc_etrypt_cmmCdNm')\n",
      "C:\\Users\\user\\AppData\\Local\\Temp\\ipykernel_18728\\3388689947.py:6: DeprecationWarning: find_element_by_* commands are deprecated. Please use find_element() instead\n",
      "  upchecode_input = driver.find_element_by_id('mf_tacMain_contents_M9033_body_udc_entrpsCd_cmmCd')\n",
      "C:\\Users\\user\\AppData\\Local\\Temp\\ipykernel_18728\\3388689947.py:30: DeprecationWarning: find_element_by_* commands are deprecated. Please use find_element() instead\n",
      "  select_dropbox = Select(driver.find_element_by_id(\"mf_tacMain_contents_M9033_body_tkinTkoutSe_cmmCd_input_0\"))\n"
     ]
    }
   ],
   "source": [
    "# 텍스트 입력란 찾기\n",
    "chungcode_input = driver.find_element_by_id('mf_tacMain_contents_M9033_body_udc_prtAgCd_cmmCd')\n",
    "hoculbuho_input = driver.find_element_by_id('mf_tacMain_contents_M9033_body_udc_clsgn_cmmCd')\n",
    "iphangnyeundo_input = driver.find_element_by_id('mf_tacMain_contents_M9033_body_udc_etrypt_cmmCd')\n",
    "iphanghoetsu_input = driver.find_element_by_id('mf_tacMain_contents_M9033_body_udc_etrypt_cmmCdNm')\n",
    "upchecode_input = driver.find_element_by_id('mf_tacMain_contents_M9033_body_udc_entrpsCd_cmmCd')\n",
    "\n",
    "# 텍스트 입력\n",
    "# chungcode = input('청코드 입력 : ') \n",
    "# print(chungcode)\n",
    "chungcode_input.send_keys('030') #030\n",
    "\n",
    "# hoculbuho = input('호출부호 입력 : ')\n",
    "# print(hoculbuho)\n",
    "hoculbuho_input.send_keys('D8BG') #D8BG\n",
    "\n",
    "# iphangnyeundo = input('입항년도 입력 : ')\n",
    "# print(iphangnyeundo)\n",
    "iphangnyeundo_input.send_keys('2023') #2023\n",
    "\n",
    "# iphanghoetsu = input('입항횟수 입력 : ')\n",
    "# print(iphanghoetsu)\n",
    "iphanghoetsu_input.send_keys('006') #006\n",
    "\n",
    "# upchecode = input('업체코드 입력 : ')\n",
    "# print(upchecode)\n",
    "upchecode_input.send_keys('OST0011') #OST0011\n",
    "\n",
    "# 수출입구분 드롭박스 선택\n",
    "select_dropbox = Select(driver.find_element_by_id(\"mf_tacMain_contents_M9033_body_tkinTkoutSe_cmmCd_input_0\"))\n",
    "\n",
    "# \"수출\" 선택\n",
    "select_dropbox.select_by_visible_text('수출')"
   ]
  },
  {
   "cell_type": "code",
   "execution_count": 52,
   "metadata": {},
   "outputs": [
    {
     "name": "stderr",
     "output_type": "stream",
     "text": [
      "C:\\Users\\user\\AppData\\Local\\Temp\\ipykernel_18728\\2268237566.py:8: DeprecationWarning: find_element_by_* commands are deprecated. Please use find_element() instead\n",
      "  select_dropbox = Select(driver.find_element_by_id(\"mf_tacMain_contents_M9033_body_udcGridPageView_sbxRecordCount_input_0\"))\n",
      "C:\\Users\\user\\AppData\\Local\\Temp\\ipykernel_18728\\2268237566.py:14: DeprecationWarning: find_element_by_* commands are deprecated. Please use find_element() instead\n",
      "  table = driver.find_element_by_id(\"mf_tacMain_contents_M9033_body_grdList1_body_tbody\")\n"
     ]
    }
   ],
   "source": [
    "# 검색 버튼 클릭\n",
    "search_button_locator = (By.XPATH, '//*[@id=\"mf_tacMain_contents_M9033_body_udcSearch_btnSearch\"]/a')  # 버튼의 XPath 설정\n",
    "wait = WebDriverWait(driver, 10)  # 10초간 대기\n",
    "button = wait.until(EC.element_to_be_clickable(search_button_locator))  # 버튼이 클릭 가능할 때까지 대기\n",
    "button.click()\n",
    "\n",
    "# 페이지 수 드롭박스 선택\n",
    "select_dropbox = Select(driver.find_element_by_id(\"mf_tacMain_contents_M9033_body_udcGridPageView_sbxRecordCount_input_0\"))\n",
    "\n",
    "# \"500개씩 보기\" 선택\n",
    "select_dropbox.select_by_visible_text('500개씩 보기')\n",
    "\n",
    "# ID 값이 \"my-table\"인 테이블 요소 찾기\n",
    "table = driver.find_element_by_id(\"mf_tacMain_contents_M9033_body_grdList1_body_tbody\")\n",
    "# ActionChains 객체 생성\n",
    "action_chains = ActionChains(driver)"
   ]
  },
  {
   "cell_type": "code",
   "execution_count": 100,
   "metadata": {},
   "outputs": [
    {
     "name": "stdout",
     "output_type": "stream",
     "text": [
      "[6, 12, 18, 24, 30, 36, 42, 48, 54, 60, 66, 72, 78, 84, 90, 96, 102, 108, 114, 120, 126, 132, 138, 144, 150, 156, 162, 168, 174, 180, 186, 192, 198, 204, 210, 216, 222, 228, 234, 240, 246, 252, 258, 264, 270, 276, 282, 288, 294, 300, 306, 312, 318, 324, 330, 336, 342, 348, 354, 360, 366, 372, 378, 384, 390, 396, 402, 408, 414, 420, 426, 432, 438, 444, 450, 456, 462, 468, 474, 480, 486, 492, 498, 504, 510, 516, 522, 528, 534, 540, 546, 552, 558, 564, 570, 576, 582, 588, 594, 600, 606, 612, 618, 624, 630, 636, 642, 648, 654, 660, 666, 672, 678, 684, 690, 696, 702, 708, 714, 720, 726, 732, 738, 744, 750, 756, 762, 768, 774, 780, 786, 792, 798, 804, 810, 816, 822, 828, 834, 840, 846, 852, 858, 864, 870, 876, 882, 888, 894, 900, 906, 912, 918, 924, 930, 936, 942, 948, 954, 960, 966, 972, 978, 984, 990, 996, 1002, 1008, 1014, 1020, 1026, 1032, 1038, 1044, 1050, 1056, 1062, 1068, 1074, 1080, 1086, 1092, 1098, 1104, 1110, 1116, 1122, 1128, 1134, 1140, 1146, 1152, 1158, 1164, 1170, 1176, 1182, 1188, 1194, 1200, 1206, 1212, 1218, 1224, 1230, 1236, 1242, 1248, 1254, 1260, 1266, 1272, 1278, 1284, 1290, 1296, 1302, 1308, 1314, 1320, 1326, 1332, 1338, 1344, 1350, 1356, 1362, 1368, 1374, 1380, 1386, 1392, 1398, 1404, 1410, 1416, 1422, 1428, 1434, 1440, 1446, 1452, 1458, 1464, 1470, 1476, 1482, 1488, 1494, 1500, 1506, 1512, 1518, 1524, 1530, 1536, 1542, 1548, 1554, 1560, 1566, 1572, 1578, 1584, 1590, 1596, 1602, 1608, 1614, 1620, 1626, 1632, 1638, 1644, 1650, 1656, 1662, 1668, 1674, 1680, 1686, 1692, 1698, 1704, 1710, 1716, 1722, 1728, 1734, 1740, 1746, 1752, 1758, 1764, 1770, 1776, 1782, 1788, 1794, 1800, 1806, 1812, 1818, 1824, 1830, 1836, 1842, 1848, 1854, 1860, 1866, 1872, 1878, 1884, 1890, 1896, 1902, 1908, 1914, 1920, 1926, 1932, 1938, 1944, 1950, 1956, 1962, 1968, 1974, 1980, 1986, 1992, 1998, 2004, 2010, 2016, 2022, 2028, 2034, 2040, 2046, 2052, 2058, 2064, 2070, 2076, 2082, 2088, 2094, 2100, 2106, 2112, 2118, 2124, 2130, 2136, 2142, 2148, 2154, 2160, 2166, 2172, 2178, 2184, 2190, 2196, 2202, 2208, 2214, 2220, 2226, 2232, 2238, 2244, 2250, 2256, 2262, 2268, 2274, 2280, 2286, 2292, 2298, 2304, 2310, 2316, 2322, 2328, 2334, 2340, 2346, 2352, 2358, 2364, 2370, 2376, 2382, 2388, 2394, 2400, 2406, 2412, 2418, 2424, 2430, 2436, 2442, 2448, 2454, 2460, 2466, 2472, 2478, 2484, 2490, 2496, 2502, 2508, 2514, 2520, 2526, 2532, 2538, 2544, 2550, 2556, 2562, 2568, 2574, 2580, 2586, 2592, 2598, 2604, 2610, 2616, 2622, 2628, 2634, 2640, 2646, 2652, 2658, 2664, 2670, 2676, 2682, 2688, 2694, 2700, 2706, 2712, 2718, 2724, 2730, 2736, 2742, 2748, 2754, 2760, 2766, 2772, 2778, 2784, 2790, 2796, 2802, 2808, 2814, 2820, 2826, 2832, 2838, 2844, 2850, 2856, 2862, 2868, 2874, 2880, 2886, 2892, 2898, 2904, 2910, 2916, 2922, 2928, 2934, 2940, 2946, 2952, 2958, 2964, 2970, 2976, 2982, 2988, 2994, 3000, 3006, 3012, 3018, 3024, 3030, 3036, 3042, 3048, 3054, 3060, 3066, 3072, 3078, 3084, 3090, 3096, 3102, 3108, 3114, 3120, 3126, 3132, 3138, 3144, 3150, 3156, 3162, 3168, 3174, 3180, 3186, 3192, 3198, 3204, 3210, 3216, 3222, 3228, 3234, 3240, 3246, 3252, 3258, 3264, 3270, 3276, 3282, 3288, 3294, 3300, 3306, 3312, 3318, 3324, 3330, 3336, 3342, 3348, 3354, 3360, 3366, 3372, 3378, 3384, 3390, 3396, 3402, 3408, 3414, 3420, 3426, 3432, 3438, 3444, 3450, 3456, 3462, 3468, 3474, 3480, 3486, 3492, 3498, 3504, 3510, 3516, 3522, 3528, 3534, 3540, 3546, 3552, 3558, 3564, 3570, 3576, 3582, 3588, 3594, 3600, 3606, 3612, 3618, 3624, 3630, 3636, 3642, 3648, 3654, 3660, 3666, 3672, 3678, 3684, 3690, 3696, 3702, 3708, 3714, 3720, 3726, 3732, 3738, 3744, 3750, 3756, 3762, 3768, 3774, 3780, 3786, 3792, 3798, 3804, 3810, 3816, 3822, 3828, 3834, 3840, 3846, 3852, 3858, 3864, 3870, 3876, 3882, 3888, 3894, 3900, 3906, 3912, 3918, 3924, 3930, 3936, 3942, 3948, 3954, 3960, 3966, 3972, 3978, 3984, 3990, 3996, 4002, 4008, 4014, 4020, 4026, 4032, 4038, 4044, 4050, 4056, 4062, 4068, 4074, 4080, 4086, 4092, 4098, 4104, 4110, 4116, 4122, 4128, 4134, 4140, 4146, 4152, 4158, 4164, 4170, 4176, 4182, 4188, 4194, 4200, 4206, 4212, 4218, 4224, 4230, 4236, 4242, 4248, 4254, 4260, 4266, 4272, 4278, 4284, 4290, 4296, 4302, 4308, 4314, 4320, 4326, 4332, 4338, 4344, 4350, 4356, 4362, 4368, 4374, 4380, 4386, 4392, 4398, 4404, 4410, 4416, 4422, 4428, 4434, 4440, 4446, 4452, 4458, 4464, 4470, 4476, 4482, 4488, 4494, 4500, 4506, 4512, 4518, 4524, 4530, 4536, 4542, 4548, 4554, 4560, 4566, 4572, 4578, 4584, 4590, 4596, 4602, 4608, 4614, 4620, 4626, 4632, 4638, 4644, 4650, 4656, 4662, 4668, 4674, 4680, 4686, 4692, 4698, 4704, 4710, 4716, 4722, 4728, 4734, 4740, 4746, 4752, 4758, 4764, 4770, 4776, 4782, 4788, 4794, 4800, 4806, 4812, 4818, 4824, 4830, 4836, 4842, 4848, 4854, 4860, 4866, 4872, 4878, 4884, 4890, 4896, 4902, 4908, 4914, 4920, 4926, 4932, 4938, 4944, 4950, 4956, 4962, 4968, 4974, 4980, 4986, 4992, 4998, 5004, 5010, 5016, 5022, 5028, 5034, 5040, 5046, 5052, 5058, 5064, 5070, 5076, 5082, 5088, 5094, 5100, 5106, 5112, 5118, 5124, 5130, 5136, 5142, 5148, 5154, 5160, 5166, 5172, 5178, 5184, 5190, 5196, 5202, 5208, 5214, 5220, 5226, 5232, 5238, 5244, 5250, 5256, 5262, 5268, 5274, 5280, 5286, 5292, 5298, 5304, 5310, 5316, 5322, 5328, 5334, 5340, 5346, 5352, 5358, 5364, 5370, 5376, 5382, 5388, 5394, 5400, 5406, 5412, 5418, 5424, 5430, 5436, 5442, 5448, 5454, 5460, 5466, 5472, 5478, 5484, 5490, 5496, 5502, 5508, 5514, 5520, 5526, 5532, 5538, 5544, 5550, 5556, 5562, 5568, 5574, 5580, 5586, 5592, 5598, 5604, 5610, 5616, 5622, 5628, 5634, 5640, 5646, 5652, 5658, 5664, 5670, 5676, 5682, 5688, 5694, 5700, 5706, 5712, 5718, 5724, 5730, 5736, 5742, 5748, 5754, 5760, 5766, 5772, 5778, 5784, 5790, 5796, 5802, 5808, 5814, 5820, 5826, 5832, 5838, 5844, 5850, 5856, 5862, 5868, 5874, 5880, 5886, 5892, 5898, 5904, 5910, 5916, 5922, 5928, 5934, 5940, 5946, 5952, 5958, 5964, 5970, 5976, 5982, 5988, 5994]\n",
      "1\n",
      "[]\n",
      "checkpoint pass1\n",
      "checkpoint pass3\n",
      "2\n",
      "['1']\n",
      "checkpoint pass1\n",
      "checkpoint pass3\n",
      "3\n",
      "['1', '2']\n",
      "checkpoint pass1\n",
      "checkpoint pass3\n",
      "4\n",
      "['1', '2', '3']\n",
      "checkpoint pass1\n",
      "checkpoint pass3\n",
      "5\n",
      "['1', '2', '3', '4']\n",
      "checkpoint pass1\n",
      "checkpoint pass3\n",
      "6\n",
      "['1', '2', '3', '4', '5']\n",
      "checkpoint pass1\n",
      "checkpoint down scroll\n",
      "checkpoint pass2\n",
      "7\n",
      "['1', '2', '3', '4', '5', '6']\n",
      "checkpoint pass1\n",
      "checkpoint pass3\n",
      "8\n",
      "['1', '2', '3', '4', '5', '6', '7']\n",
      "checkpoint pass1\n",
      "checkpoint pass3\n",
      "9\n",
      "['1', '2', '3', '4', '5', '6', '7', '8']\n",
      "checkpoint pass1\n",
      "checkpoint pass3\n",
      "10\n",
      "['1', '2', '3', '4', '5', '6', '7', '8', '9']\n",
      "checkpoint pass1\n",
      "checkpoint pass3\n",
      "11\n",
      "['1', '2', '3', '4', '5', '6', '7', '8', '9', '10']\n",
      "checkpoint pass1\n",
      "checkpoint pass3\n",
      "12\n",
      "['1', '2', '3', '4', '5', '6', '7', '8', '9', '10', '11']\n",
      "checkpoint pass1\n",
      "checkpoint down scroll\n",
      "checkpoint up scroll\n",
      "8\n",
      "['1', '2', '3', '4', '5', '6', '7', '8', '9', '10', '11', '12']\n",
      "checkpoint continue\n",
      "9\n",
      "['1', '2', '3', '4', '5', '6', '7', '8', '9', '10', '11', '12']\n",
      "checkpoint continue\n",
      "10\n",
      "['1', '2', '3', '4', '5', '6', '7', '8', '9', '10', '11', '12']\n",
      "checkpoint continue\n",
      "11\n",
      "['1', '2', '3', '4', '5', '6', '7', '8', '9', '10', '11', '12']\n",
      "checkpoint continue\n",
      "12\n",
      "['1', '2', '3', '4', '5', '6', '7', '8', '9', '10', '11', '12']\n",
      "checkpoint continue\n",
      "13\n",
      "['1', '2', '3', '4', '5', '6', '7', '8', '9', '10', '11', '12']\n",
      "checkpoint pass1\n",
      "checkpoint pass3\n",
      "checkpoint break\n"
     ]
    }
   ],
   "source": [
    "# 순번 넘기는 로직 완성\n",
    "multiples_of_6 = []\n",
    "for num in range(6, 6000, 6) :\n",
    "    multiples_of_6.append(num)\n",
    "\n",
    "multiples_of_2 = [0, 2, 4, 6, 8, 10]  # 리스트 생성\n",
    "multiples_of_2 = multiples_of_2 * 10  # 리스트를 10번 반복하여 새로운 리스트 생성\n",
    "\n",
    "rownum_list = []\n",
    "\n",
    "start_num = 0\n",
    "\n",
    "for i in multiples_of_2 :\n",
    "    row = table.find_elements_by_tag_name(\"tr\")[i]\n",
    "    rownumber = row.find_element_by_xpath(\"td[1]\").text\n",
    "    print(rownumber)\n",
    "    print(rownum_list)\n",
    "    if rownumber in rownum_list :\n",
    "        print('checkpoint continue')\n",
    "        continue\n",
    "    else :\n",
    "        print('checkpoint pass1')\n",
    "        pass\n",
    "    action_chains.double_click(row).perform()\n",
    "\n",
    "    # 리스트 버튼 클릭\n",
    "    list_button_locator = (By.XPATH, '//*[@id=\"mf_tacMain_contents_M9033_body_tabControl_tab_tab1_tabHTML\"]')  # 버튼의 XPath 설정\n",
    "    wait = WebDriverWait(driver, 10)  # 10초간 대기\n",
    "    button = wait.until(EC.element_to_be_clickable(list_button_locator))  # 버튼이 클릭 가능할 때까지 대기\n",
    "    button.click()\n",
    "    time.sleep(1)\n",
    "\n",
    "    action_chains.click(row).perform()\n",
    "    # print('체크포인트')\n",
    "    # print(rownumber)\n",
    "\n",
    "    if int(rownumber) in multiples_of_6 :\n",
    "        print('checkpoint down scroll')\n",
    "        action_chains.move_to_element(table).send_keys(Keys.DOWN).send_keys(Keys.DOWN).send_keys(Keys.DOWN).send_keys(Keys.DOWN).send_keys(Keys.DOWN).send_keys(Keys.DOWN).send_keys(Keys.DOWN).send_keys(Keys.DOWN).send_keys(Keys.DOWN).send_keys(Keys.DOWN).send_keys(Keys.DOWN).send_keys(Keys.DOWN).perform()\n",
    "        new_rownumber = row.find_element_by_xpath(\"td[1]\").text\n",
    "        if int(new_rownumber) < int(rownumber) :\n",
    "            print('checkpoint up scroll')\n",
    "            action_chains.move_to_element(table).send_keys(Keys.UP).send_keys(Keys.UP).send_keys(Keys.UP).send_keys(Keys.UP).send_keys(Keys.UP).send_keys(Keys.UP).send_keys(Keys.UP).send_keys(Keys.UP).send_keys(Keys.UP).send_keys(Keys.UP).perform()\n",
    "        else :\n",
    "            print('checkpoint pass2')\n",
    "            pass\n",
    "    else :\n",
    "        print('checkpoint pass3')\n",
    "        pass\n",
    "    \n",
    "    if (int(rownumber) not in multiples_of_6) and (i == 10) :\n",
    "        print('checkpoint break')\n",
    "        break\n",
    "\n",
    "    rownum_list.append(rownumber)\n",
    "\n"
   ]
  },
  {
   "cell_type": "code",
   "execution_count": 98,
   "metadata": {},
   "outputs": [
    {
     "name": "stdout",
     "output_type": "stream",
     "text": [
      "rownumber1 :  <class 'int'>\n",
      "rownumber:  <class 'str'>\n"
     ]
    },
    {
     "data": {
      "text/plain": [
       "True"
      ]
     },
     "execution_count": 98,
     "metadata": {},
     "output_type": "execute_result"
    }
   ],
   "source": [
    "multiples_of_6 = []\n",
    "for num in range(6, 6000, 6) :\n",
    "    multiples_of_6.append(num)\n",
    "\n",
    "rownumber1 = 6\n",
    "print('rownumber1 : ',type(rownumber1))\n",
    "print('rownumber: ', type(rownumber))\n",
    "\n",
    "int(rownumber) in multiples_of_6"
   ]
  },
  {
   "cell_type": "code",
   "execution_count": 42,
   "metadata": {},
   "outputs": [
    {
     "name": "stdout",
     "output_type": "stream",
     "text": [
      "12\n"
     ]
    }
   ],
   "source": [
    "row = table.find_elements_by_tag_name(\"tr\")[10]\n",
    "rownumber = row.find_element_by_xpath(\"td[1]\").text\n",
    "print(rownumber)\n",
    "action_chains.double_click(row).perform()\n",
    "\n",
    "# 리스트 버튼 클릭\n",
    "list_button_locator = (By.XPATH, '//*[@id=\"mf_tacMain_contents_M9033_body_tabControl_tab_tab1_tabHTML\"]')  # 버튼의 XPath 설정\n",
    "wait = WebDriverWait(driver, 10)  # 10초간 대기\n",
    "button = wait.until(EC.element_to_be_clickable(list_button_locator))  # 버튼이 클릭 가능할 때까지 대기\n",
    "button.click()\n",
    "time.sleep(1)\n",
    "\n",
    "action_chains.click(row).perform()\n"
   ]
  },
  {
   "cell_type": "code",
   "execution_count": 43,
   "metadata": {},
   "outputs": [],
   "source": [
    "action_chains.move_to_element(table).send_keys(Keys.DOWN).send_keys(Keys.DOWN).send_keys(Keys.DOWN).send_keys(Keys.DOWN).send_keys(Keys.DOWN).send_keys(Keys.DOWN).send_keys(Keys.DOWN).send_keys(Keys.DOWN).send_keys(Keys.DOWN).send_keys(Keys.DOWN).send_keys(Keys.DOWN).send_keys(Keys.DOWN).perform()"
   ]
  },
  {
   "cell_type": "code",
   "execution_count": 45,
   "metadata": {},
   "outputs": [
    {
     "name": "stdout",
     "output_type": "stream",
     "text": [
      "[0, 2, 4, 6, 8, 10, 0, 2, 4, 6, 8, 10, 0, 2, 4, 6, 8, 10, 0, 2, 4, 6, 8, 10, 0, 2, 4, 6, 8, 10, 0, 2, 4, 6, 8, 10, 0, 2, 4, 6, 8, 10, 0, 2, 4, 6, 8, 10, 0, 2, 4, 6, 8, 10, 0, 2, 4, 6, 8, 10]\n"
     ]
    }
   ],
   "source": [
    "nums = [0, 2, 4, 6, 8, 10]  # 리스트 생성\n",
    "repeated_nums = nums * 10  # 리스트를 10번 반복하여 새로운 리스트 생성\n",
    "\n",
    "print(repeated_nums)  # 생성된 리스트 출력\n"
   ]
  },
  {
   "cell_type": "code",
   "execution_count": 38,
   "metadata": {},
   "outputs": [
    {
     "name": "stdout",
     "output_type": "stream",
     "text": [
      "6\n"
     ]
    }
   ],
   "source": [
    "row = table.find_elements_by_tag_name(\"tr\")[10]\n",
    "action_chains.click(row).perform()\n",
    "rownumber = row.find_element_by_xpath(\"td[1]\").text\n",
    "print(rownumber)\n",
    "# action_chains.double_click(row).perform()"
   ]
  },
  {
   "cell_type": "code",
   "execution_count": 39,
   "metadata": {},
   "outputs": [],
   "source": [
    "action_chains.move_to_element(table).send_keys(Keys.DOWN).send_keys(Keys.DOWN).send_keys(Keys.DOWN).send_keys(Keys.DOWN).send_keys(Keys.DOWN).send_keys(Keys.DOWN).send_keys(Keys.DOWN).send_keys(Keys.DOWN).send_keys(Keys.DOWN).send_keys(Keys.DOWN).send_keys(Keys.DOWN).send_keys(Keys.DOWN).perform()"
   ]
  },
  {
   "cell_type": "code",
   "execution_count": 11,
   "metadata": {},
   "outputs": [],
   "source": [
    "action_chains.move_to_element(table).send_keys(Keys.CONTROL, Keys.END).send_keys(Keys.CONTROL, Keys.SHIFT).perform()"
   ]
  },
  {
   "cell_type": "code",
   "execution_count": 24,
   "metadata": {},
   "outputs": [],
   "source": [
    "# action_chains.move_by_offset(0, 60).click().perform()\n",
    "action_chains.move_to_element(table).send_keys(Keys.DOWN).send_keys(Keys.DOWN).perform()\n",
    "# action_chains.move_to_element(first_row).double_click().perform()\n"
   ]
  },
  {
   "cell_type": "code",
   "execution_count": 30,
   "metadata": {},
   "outputs": [
    {
     "data": {
      "text/plain": [
       "<selenium.webdriver.common.action_chains.ActionChains at 0x2590e46f4c0>"
      ]
     },
     "execution_count": 30,
     "metadata": {},
     "output_type": "execute_result"
    }
   ],
   "source": [
    "action_chains.move_to_element(table).send_keys(Keys.DOWN,Keys.DOWN,Keys.DOWN,Keys.DOWN,Keys.DOWN,Keys.DOWN,Keys.DOWN,Keys.DOWN,Keys.DOWN,Keys.DOWN,Keys.DOWN,Keys.DOWN).perform()\n",
    "# action_chains.double_click().perform()\n",
    "\n",
    "action_chains"
   ]
  },
  {
   "cell_type": "code",
   "execution_count": 112,
   "metadata": {},
   "outputs": [],
   "source": [
    "# 리스트 버튼 클릭\n",
    "list_button_locator = (By.XPATH, '//*[@id=\"mf_tacMain_contents_M9033_body_tabControl_tab_tab1_tabHTML\"]')  # 버튼의 XPath 설정\n",
    "wait = WebDriverWait(driver, 10)  # 10초간 대기\n",
    "button = wait.until(EC.element_to_be_clickable(list_button_locator))  # 버튼이 클릭 가능할 때까지 대기\n",
    "button.click()\n",
    "time.sleep(1)"
   ]
  },
  {
   "cell_type": "code",
   "execution_count": null,
   "metadata": {},
   "outputs": [],
   "source": []
  }
 ],
 "metadata": {
  "kernelspec": {
   "display_name": ".venv",
   "language": "python",
   "name": "python3"
  },
  "language_info": {
   "codemirror_mode": {
    "name": "ipython",
    "version": 3
   },
   "file_extension": ".py",
   "mimetype": "text/x-python",
   "name": "python",
   "nbconvert_exporter": "python",
   "pygments_lexer": "ipython3",
   "version": "3.8.10"
  },
  "orig_nbformat": 4
 },
 "nbformat": 4,
 "nbformat_minor": 2
}
