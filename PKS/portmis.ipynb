{
 "cells": [
  {
   "cell_type": "code",
   "execution_count": 70,
   "metadata": {},
   "outputs": [],
   "source": [
    "from selenium import webdriver\n",
    "from selenium.webdriver.common.by import By\n",
    "from selenium.webdriver.support.ui import WebDriverWait, Select\n",
    "from selenium.webdriver.support import expected_conditions as EC\n",
    "from selenium.webdriver.common.action_chains import ActionChains\n",
    "from selenium.webdriver.common.keys import Keys\n",
    "import time\n",
    "import pandas as pd\n"
   ]
  },
  {
   "cell_type": "code",
   "execution_count": 2,
   "metadata": {},
   "outputs": [],
   "source": [
    "# Chrome 드라이버 위치 설정\n",
    "driver_path = 'D:\\chromedriver_win32\\chromedriver'"
   ]
  },
  {
   "cell_type": "code",
   "execution_count": 3,
   "metadata": {},
   "outputs": [],
   "source": [
    "# Chrome 드라이버 옵션 설정\n",
    "options = webdriver.ChromeOptions()\n",
    "# options.add_argument('headless')  # 브라우저를 띄우지 않고 실행\n",
    "options.add_argument('window-size=1920x1080')  # 화면 크기 설정"
   ]
  },
  {
   "cell_type": "code",
   "execution_count": 4,
   "metadata": {},
   "outputs": [
    {
     "name": "stderr",
     "output_type": "stream",
     "text": [
      "C:\\Users\\user\\AppData\\Local\\Temp\\ipykernel_19332\\48472482.py:2: DeprecationWarning: executable_path has been deprecated, please pass in a Service object\n",
      "  driver = webdriver.Chrome(driver_path, options=options)\n"
     ]
    }
   ],
   "source": [
    "# Chrome 드라이버 실행\n",
    "driver = webdriver.Chrome(driver_path, options=options)"
   ]
  },
  {
   "cell_type": "code",
   "execution_count": 5,
   "metadata": {},
   "outputs": [],
   "source": [
    "# 웹사이트 접속\n",
    "url = 'https://new.portmis.go.kr/portmis/websquare/websquare.jsp?w2xPath=/portmis/w2/main/index.xml&page=/portmis/w2/cm/sys/UI-PM-MT-001-021.xml&menuId=0045&menuCd=M4735&menuNm=%ED%86%B5%ED%95%A9%ED%99%94%EB%AC%BC%EC%A0%95%EB%B3%B4'\n",
    "driver.get(url)"
   ]
  },
  {
   "cell_type": "code",
   "execution_count": 6,
   "metadata": {},
   "outputs": [],
   "source": [
    "# 로그인 버튼 클릭\n",
    "login_button_locator = (By.XPATH, '//*[@id=\"mf_tacMain_contents_M4735_body_btn_goLogin\"]')  # 버튼의 XPath 설정\n",
    "wait = WebDriverWait(driver, 10)  # 10초간 대기\n",
    "button = wait.until(EC.element_to_be_clickable(login_button_locator))  # 버튼이 클릭 가능할 때까지 대기\n",
    "button.click()"
   ]
  },
  {
   "cell_type": "code",
   "execution_count": 7,
   "metadata": {},
   "outputs": [],
   "source": [
    "# 웹사이트 재접속\n",
    "url = 'https://new.portmis.go.kr/portmis/websquare/websquare.jsp?w2xPath=/portmis/w2/main/index.xml&page=/portmis/w2/cm/sys/UI-PM-MT-001-021.xml&menuId=0045&menuCd=M4735&menuNm=%ED%86%B5%ED%95%A9%ED%99%94%EB%AC%BC%EC%A0%95%EB%B3%B4'\n",
    "driver.get(url)"
   ]
  },
  {
   "cell_type": "code",
   "execution_count": 8,
   "metadata": {},
   "outputs": [
    {
     "name": "stdout",
     "output_type": "stream",
     "text": [
      "통합화물정보 버튼 클릭 완료\n"
     ]
    }
   ],
   "source": [
    "# 통합화물정보 버튼을 찾아 클릭\n",
    "try:\n",
    "    button = WebDriverWait(driver, 10).until(\n",
    "        EC.element_to_be_clickable((By.XPATH, '//*[@id=\"mf_tacMain_contents_M4735_body_genMenuLevel1_2_genMenuLevel2_3_genMenuLevel3_1_btnMenuLevel3\"]'))\n",
    "    )\n",
    "    button.click()\n",
    "    print('통합화물정보 버튼 클릭 완료')\n",
    "except:\n",
    "    print('통합화물정보 버튼을 찾을 수 없습니다.')"
   ]
  },
  {
   "cell_type": "code",
   "execution_count": 9,
   "metadata": {},
   "outputs": [
    {
     "name": "stderr",
     "output_type": "stream",
     "text": [
      "C:\\Users\\user\\AppData\\Local\\Temp\\ipykernel_19332\\3313364215.py:2: DeprecationWarning: find_element_by_* commands are deprecated. Please use find_element() instead\n",
      "  chungcode_input = driver.find_element_by_id('mf_tacMain_contents_M9033_body_udc_prtAgCd_cmmCd')\n",
      "C:\\Users\\user\\AppData\\Local\\Temp\\ipykernel_19332\\3313364215.py:3: DeprecationWarning: find_element_by_* commands are deprecated. Please use find_element() instead\n",
      "  hoculbuho_input = driver.find_element_by_id('mf_tacMain_contents_M9033_body_udc_clsgn_cmmCd')\n",
      "C:\\Users\\user\\AppData\\Local\\Temp\\ipykernel_19332\\3313364215.py:4: DeprecationWarning: find_element_by_* commands are deprecated. Please use find_element() instead\n",
      "  iphangnyeundo_input = driver.find_element_by_id('mf_tacMain_contents_M9033_body_udc_etrypt_cmmCd')\n",
      "C:\\Users\\user\\AppData\\Local\\Temp\\ipykernel_19332\\3313364215.py:5: DeprecationWarning: find_element_by_* commands are deprecated. Please use find_element() instead\n",
      "  iphanghoetsu_input = driver.find_element_by_id('mf_tacMain_contents_M9033_body_udc_etrypt_cmmCdNm')\n",
      "C:\\Users\\user\\AppData\\Local\\Temp\\ipykernel_19332\\3313364215.py:6: DeprecationWarning: find_element_by_* commands are deprecated. Please use find_element() instead\n",
      "  upchecode_input = driver.find_element_by_id('mf_tacMain_contents_M9033_body_udc_entrpsCd_cmmCd')\n"
     ]
    }
   ],
   "source": [
    "# 텍스트 입력란 찾기\n",
    "chungcode_input = driver.find_element_by_id('mf_tacMain_contents_M9033_body_udc_prtAgCd_cmmCd')\n",
    "hoculbuho_input = driver.find_element_by_id('mf_tacMain_contents_M9033_body_udc_clsgn_cmmCd')\n",
    "iphangnyeundo_input = driver.find_element_by_id('mf_tacMain_contents_M9033_body_udc_etrypt_cmmCd')\n",
    "iphanghoetsu_input = driver.find_element_by_id('mf_tacMain_contents_M9033_body_udc_etrypt_cmmCdNm')\n",
    "upchecode_input = driver.find_element_by_id('mf_tacMain_contents_M9033_body_udc_entrpsCd_cmmCd')"
   ]
  },
  {
   "cell_type": "code",
   "execution_count": 10,
   "metadata": {},
   "outputs": [],
   "source": [
    "# 텍스트 입력\n",
    "chungcode_input.send_keys('030')\n",
    "hoculbuho_input.send_keys('D8BG')\n",
    "iphangnyeundo_input.send_keys('2023')\n",
    "iphanghoetsu_input.send_keys('006')\n",
    "upchecode_input.send_keys('OST0011')\n"
   ]
  },
  {
   "cell_type": "code",
   "execution_count": 11,
   "metadata": {},
   "outputs": [
    {
     "name": "stderr",
     "output_type": "stream",
     "text": [
      "C:\\Users\\user\\AppData\\Local\\Temp\\ipykernel_19332\\1332579792.py:2: DeprecationWarning: find_element_by_* commands are deprecated. Please use find_element() instead\n",
      "  select_dropbox = Select(driver.find_element_by_id(\"mf_tacMain_contents_M9033_body_tkinTkoutSe_cmmCd_input_0\"))\n"
     ]
    }
   ],
   "source": [
    "# 수출입구분 드롭박스 선택\n",
    "select_dropbox = Select(driver.find_element_by_id(\"mf_tacMain_contents_M9033_body_tkinTkoutSe_cmmCd_input_0\"))\n",
    "\n",
    "# \"Orange\" 선택\n",
    "select_dropbox.select_by_visible_text('수출')"
   ]
  },
  {
   "cell_type": "code",
   "execution_count": 44,
   "metadata": {},
   "outputs": [],
   "source": [
    "# 검색 버튼 클릭\n",
    "search_button_locator = (By.XPATH, '//*[@id=\"mf_tacMain_contents_M9033_body_udcSearch_btnSearch\"]/a')  # 버튼의 XPath 설정\n",
    "wait = WebDriverWait(driver, 10)  # 10초간 대기\n",
    "button = wait.until(EC.element_to_be_clickable(search_button_locator))  # 버튼이 클릭 가능할 때까지 대기\n",
    "button.click()"
   ]
  },
  {
   "cell_type": "code",
   "execution_count": 45,
   "metadata": {},
   "outputs": [
    {
     "name": "stderr",
     "output_type": "stream",
     "text": [
      "C:\\Users\\user\\AppData\\Local\\Temp\\ipykernel_19332\\2047352148.py:2: DeprecationWarning: find_element_by_* commands are deprecated. Please use find_element() instead\n",
      "  select_dropbox = Select(driver.find_element_by_id(\"mf_tacMain_contents_M9033_body_udcGridPageView_sbxRecordCount_input_0\"))\n"
     ]
    }
   ],
   "source": [
    "# 페이지 수 드롭박스 선택\n",
    "select_dropbox = Select(driver.find_element_by_id(\"mf_tacMain_contents_M9033_body_udcGridPageView_sbxRecordCount_input_0\"))\n",
    "\n",
    "# \"500개씩 보기\" 선택\n",
    "select_dropbox.select_by_visible_text('500개씩 보기')"
   ]
  },
  {
   "cell_type": "code",
   "execution_count": 46,
   "metadata": {},
   "outputs": [
    {
     "name": "stderr",
     "output_type": "stream",
     "text": [
      "C:\\Users\\user\\AppData\\Local\\Temp\\ipykernel_19332\\4049099949.py:2: DeprecationWarning: find_element_by_* commands are deprecated. Please use find_element() instead\n",
      "  table = driver.find_element_by_id(\"mf_tacMain_contents_M9033_body_grdList1_body_tbody\")\n"
     ]
    }
   ],
   "source": [
    "# ID 값이 \"my-table\"인 테이블 요소 찾기\n",
    "table = driver.find_element_by_id(\"mf_tacMain_contents_M9033_body_grdList1_body_tbody\")"
   ]
  },
  {
   "cell_type": "code",
   "execution_count": 43,
   "metadata": {},
   "outputs": [],
   "source": [
    "# ActionChains 객체 생성\n",
    "action_chains = ActionChains(driver)\n",
    "\n",
    "# 스크롤바 2칸 내리기\n",
    "action_chains.move_to_element(table). click().send_keys(Keys.DOWN).send_keys(Keys.DOWN).send_keys(Keys.DOWN).send_keys(Keys.DOWN).send_keys(Keys.DOWN).send_keys(Keys.DOWN).send_keys(Keys.DOWN).send_keys(Keys.DOWN).send_keys(Keys.DOWN).send_keys(Keys.DOWN).send_keys(Keys.DOWN).send_keys(Keys.DOWN).send_keys(Keys.DOWN).send_keys(Keys.DOWN).send_keys(Keys.DOWN).send_keys(Keys.DOWN).perform()\n"
   ]
  },
  {
   "cell_type": "code",
   "execution_count": 49,
   "metadata": {},
   "outputs": [],
   "source": [
    "# 첫 번째 행 요소 찾기\n",
    "row = table.find_elements_by_tag_name(\"tr\")[1]\n",
    "# print(len(row))"
   ]
  },
  {
   "cell_type": "code",
   "execution_count": 50,
   "metadata": {},
   "outputs": [],
   "source": [
    "# 행 더블클릭\n",
    "ActionChains(driver).double_click(row).perform()"
   ]
  },
  {
   "cell_type": "code",
   "execution_count": 52,
   "metadata": {},
   "outputs": [
    {
     "name": "stderr",
     "output_type": "stream",
     "text": [
      "C:\\Users\\user\\AppData\\Local\\Temp\\ipykernel_19332\\3666325642.py:2: DeprecationWarning: find_element_by_xpath is deprecated. Please use find_element(by=By.XPATH, value=xpath) instead\n",
      "  info_table = driver.find_element_by_xpath('//*[@id=\"mf_tacMain_contents_M9033_body_wq_uuid_1884\"]')\n"
     ]
    }
   ],
   "source": [
    "# 테이블 요소 찾기\n",
    "info_table = driver.find_element_by_xpath('//*[@id=\"mf_tacMain_contents_M9033_body_wq_uuid_1884\"]')"
   ]
  },
  {
   "cell_type": "code",
   "execution_count": 61,
   "metadata": {},
   "outputs": [
    {
     "name": "stdout",
     "output_type": "stream",
     "text": [
      "['1168131734', '390130', 'COMMODITY ETHYLENE VINYL ACETATE(EVA) EA33045 QUANTITY 88 40MT PACKING  EXPORT STANDARD PACKING COUNTRY OF ORIGIN  SOUTH', 'LG CHEM  LTD  128 YEOUI-DAERO YEONGDEUNGPO-GU SEOUL KOREA TEL 82-2-3773-3781 FAX 82-2-3772-3310', 'CNHUA']\n"
     ]
    }
   ],
   "source": [
    "# 통합 화물 정보\n",
    "hawju_input = info_table.find_element_by_xpath('//*[@id=\"mf_tacMain_contents_M9033_body_tab2_dmstcOwrCd\"]')\n",
    "hawju = hawju_input.get_attribute(\"value\")\n",
    "poommokcode_input = info_table.find_element_by_xpath('//*[@id=\"mf_tacMain_contents_M9033_body_tab2_prdlstCd\"]')\n",
    "poommokcode = poommokcode_input.get_attribute(\"value\")\n",
    "poommok_input = info_table.find_element_by_xpath('//*[@id=\"mf_tacMain_contents_M9033_body_tab2_frghtNm\"]')\n",
    "poommok = poommok_input.get_attribute(\"value\")\n",
    "songha_input = info_table.find_element_by_xpath('//*[@id=\"mf_tacMain_contents_M9033_body_tab2_secongNm\"]')\n",
    "songha = songha_input.get_attribute(\"value\")\n",
    "yangha_input = info_table.find_element_by_xpath('//*[@id=\"mf_tacMain_contents_M9033_body_tab2_landngPrtCd\"]')\n",
    "yangha = yangha_input.get_attribute(\"value\")\n",
    "\n",
    "print([hawju, poommokcode, poommok, songha, yangha])\n"
   ]
  },
  {
   "cell_type": "code",
   "execution_count": 62,
   "metadata": {},
   "outputs": [],
   "source": [
    "# 컨테이너정보 버튼 클릭\n",
    "containerinfo_button_locator = (By.XPATH, '//*[@id=\"mf_tacMain_contents_M9033_body_tabControl_tab_tab3_tabHTML\"]')  # 버튼의 XPath 설정\n",
    "wait = WebDriverWait(driver, 10)  # 10초간 대기\n",
    "button = wait.until(EC.element_to_be_clickable(containerinfo_button_locator))  # 버튼이 클릭 가능할 때까지 대기\n",
    "button.click()"
   ]
  },
  {
   "cell_type": "code",
   "execution_count": 64,
   "metadata": {},
   "outputs": [
    {
     "name": "stdout",
     "output_type": "stream",
     "text": [
      "40\n"
     ]
    },
    {
     "name": "stderr",
     "output_type": "stream",
     "text": [
      "C:\\Users\\user\\AppData\\Local\\Temp\\ipykernel_19332\\1065550523.py:2: DeprecationWarning: find_element_by_xpath is deprecated. Please use find_element(by=By.XPATH, value=xpath) instead\n",
      "  containerinfo_table = driver.find_element_by_xpath('//*[@id=\"mf_tacMain_contents_M9033_body_grdList2_body_table\"]')\n"
     ]
    }
   ],
   "source": [
    "# 컨테이너정보\n",
    "# 컨테이너 사이즈\n",
    "containerinfo_table = driver.find_element_by_xpath('//*[@id=\"mf_tacMain_contents_M9033_body_grdList2_body_table\"]')\n",
    "# nobr 태그 식별 및 텍스트 추출\n",
    "size = table.find_element_by_xpath('//*[@id=\"mf_tacMain_contents_M9033_body_grdList2_cell_0_2\"]/nobr').text\n",
    "\n",
    "print(size)"
   ]
  },
  {
   "cell_type": "code",
   "execution_count": 72,
   "metadata": {},
   "outputs": [
    {
     "name": "stdout",
     "output_type": "stream",
     "text": [
      "(총 4건)\n"
     ]
    },
    {
     "name": "stderr",
     "output_type": "stream",
     "text": [
      "C:\\Users\\user\\AppData\\Local\\Temp\\ipykernel_19332\\1367561864.py:2: DeprecationWarning: find_element_by_xpath is deprecated. Please use find_element(by=By.XPATH, value=xpath) instead\n",
      "  quantity = driver.find_element_by_xpath('//*[@id=\"mf_tacMain_contents_M9033_body_grid2TotSum_txtTotalDataCount\"]').text\n"
     ]
    }
   ],
   "source": [
    "# 컨테이너 수량\n",
    "quantity = driver.find_element_by_xpath('//*[@id=\"mf_tacMain_contents_M9033_body_grid2TotSum_txtTotalDataCount\"]').text\n",
    "\n",
    "print(quantity)"
   ]
  },
  {
   "cell_type": "code",
   "execution_count": 76,
   "metadata": {},
   "outputs": [
    {
     "name": "stdout",
     "output_type": "stream",
     "text": [
      "                                         국내화주(사업자번호)  \\\n",
      "0                                         1168131734   \n",
      "1                                             390130   \n",
      "2  COMMODITY ETHYLENE VINYL ACETATE(EVA) EA33045 ...   \n",
      "3  LG CHEM  LTD  128 YEOUI-DAERO YEONGDEUNGPO-GU ...   \n",
      "4                                              CNHUA   \n",
      "5                                                 40   \n",
      "6                                             (총 4건)   \n",
      "\n",
      "                                                품목코드  \\\n",
      "0                                         1168131734   \n",
      "1                                             390130   \n",
      "2  COMMODITY ETHYLENE VINYL ACETATE(EVA) EA33045 ...   \n",
      "3  LG CHEM  LTD  128 YEOUI-DAERO YEONGDEUNGPO-GU ...   \n",
      "4                                              CNHUA   \n",
      "5                                                 40   \n",
      "6                                             (총 4건)   \n",
      "\n",
      "                                                  품목  \\\n",
      "0                                         1168131734   \n",
      "1                                             390130   \n",
      "2  COMMODITY ETHYLENE VINYL ACETATE(EVA) EA33045 ...   \n",
      "3  LG CHEM  LTD  128 YEOUI-DAERO YEONGDEUNGPO-GU ...   \n",
      "4                                              CNHUA   \n",
      "5                                                 40   \n",
      "6                                             (총 4건)   \n",
      "\n",
      "                                                 송하인  \\\n",
      "0                                         1168131734   \n",
      "1                                             390130   \n",
      "2  COMMODITY ETHYLENE VINYL ACETATE(EVA) EA33045 ...   \n",
      "3  LG CHEM  LTD  128 YEOUI-DAERO YEONGDEUNGPO-GU ...   \n",
      "4                                              CNHUA   \n",
      "5                                                 40   \n",
      "6                                             (총 4건)   \n",
      "\n",
      "                                                 양하향  \\\n",
      "0                                         1168131734   \n",
      "1                                             390130   \n",
      "2  COMMODITY ETHYLENE VINYL ACETATE(EVA) EA33045 ...   \n",
      "3  LG CHEM  LTD  128 YEOUI-DAERO YEONGDEUNGPO-GU ...   \n",
      "4                                              CNHUA   \n",
      "5                                                 40   \n",
      "6                                             (총 4건)   \n",
      "\n",
      "                                                 사이즈  \\\n",
      "0                                         1168131734   \n",
      "1                                             390130   \n",
      "2  COMMODITY ETHYLENE VINYL ACETATE(EVA) EA33045 ...   \n",
      "3  LG CHEM  LTD  128 YEOUI-DAERO YEONGDEUNGPO-GU ...   \n",
      "4                                              CNHUA   \n",
      "5                                                 40   \n",
      "6                                             (총 4건)   \n",
      "\n",
      "                                                  수량  \n",
      "0                                         1168131734  \n",
      "1                                             390130  \n",
      "2  COMMODITY ETHYLENE VINYL ACETATE(EVA) EA33045 ...  \n",
      "3  LG CHEM  LTD  128 YEOUI-DAERO YEONGDEUNGPO-GU ...  \n",
      "4                                              CNHUA  \n",
      "5                                                 40  \n",
      "6                                             (총 4건)  \n"
     ]
    },
    {
     "name": "stderr",
     "output_type": "stream",
     "text": [
      "C:\\Users\\user\\AppData\\Local\\Temp\\ipykernel_19332\\3533301435.py:6: FutureWarning: The frame.append method is deprecated and will be removed from pandas in a future version. Use pandas.concat instead.\n",
      "  df = df.append(pd.Series(row, index=df.columns), ignore_index=True)\n",
      "C:\\Users\\user\\AppData\\Local\\Temp\\ipykernel_19332\\3533301435.py:6: FutureWarning: The frame.append method is deprecated and will be removed from pandas in a future version. Use pandas.concat instead.\n",
      "  df = df.append(pd.Series(row, index=df.columns), ignore_index=True)\n",
      "C:\\Users\\user\\AppData\\Local\\Temp\\ipykernel_19332\\3533301435.py:6: FutureWarning: The frame.append method is deprecated and will be removed from pandas in a future version. Use pandas.concat instead.\n",
      "  df = df.append(pd.Series(row, index=df.columns), ignore_index=True)\n",
      "C:\\Users\\user\\AppData\\Local\\Temp\\ipykernel_19332\\3533301435.py:6: FutureWarning: The frame.append method is deprecated and will be removed from pandas in a future version. Use pandas.concat instead.\n",
      "  df = df.append(pd.Series(row, index=df.columns), ignore_index=True)\n",
      "C:\\Users\\user\\AppData\\Local\\Temp\\ipykernel_19332\\3533301435.py:6: FutureWarning: The frame.append method is deprecated and will be removed from pandas in a future version. Use pandas.concat instead.\n",
      "  df = df.append(pd.Series(row, index=df.columns), ignore_index=True)\n",
      "C:\\Users\\user\\AppData\\Local\\Temp\\ipykernel_19332\\3533301435.py:6: FutureWarning: The frame.append method is deprecated and will be removed from pandas in a future version. Use pandas.concat instead.\n",
      "  df = df.append(pd.Series(row, index=df.columns), ignore_index=True)\n",
      "C:\\Users\\user\\AppData\\Local\\Temp\\ipykernel_19332\\3533301435.py:6: FutureWarning: The frame.append method is deprecated and will be removed from pandas in a future version. Use pandas.concat instead.\n",
      "  df = df.append(pd.Series(row, index=df.columns), ignore_index=True)\n"
     ]
    }
   ],
   "source": [
    "col = ['국내화주(사업자번호)','품목코드','품목','송하인','양하향','사이즈','수량']\n",
    "df = pd.DataFrame(columns=col)\n",
    "\n",
    "lst =  [hawju, poommokcode, poommok, songha, yangha, size, quantity]\n",
    "for row in lst:\n",
    "    df = df.append(pd.Series(row, index=df.columns), ignore_index=True)\n",
    "\n",
    "print(df)"
   ]
  },
  {
   "cell_type": "code",
   "execution_count": 80,
   "metadata": {},
   "outputs": [
    {
     "data": {
      "text/html": [
       "<div>\n",
       "<style scoped>\n",
       "    .dataframe tbody tr th:only-of-type {\n",
       "        vertical-align: middle;\n",
       "    }\n",
       "\n",
       "    .dataframe tbody tr th {\n",
       "        vertical-align: top;\n",
       "    }\n",
       "\n",
       "    .dataframe thead th {\n",
       "        text-align: right;\n",
       "    }\n",
       "</style>\n",
       "<table border=\"1\" class=\"dataframe\">\n",
       "  <thead>\n",
       "    <tr style=\"text-align: right;\">\n",
       "      <th></th>\n",
       "      <th>국내화주(사업자번호)</th>\n",
       "      <th>품목코드</th>\n",
       "      <th>품목</th>\n",
       "      <th>송하인</th>\n",
       "      <th>양하향</th>\n",
       "      <th>사이즈</th>\n",
       "      <th>수량</th>\n",
       "    </tr>\n",
       "  </thead>\n",
       "  <tbody>\n",
       "    <tr>\n",
       "      <th>0</th>\n",
       "      <td>1168131734</td>\n",
       "      <td>390130</td>\n",
       "      <td>COMMODITY ETHYLENE VINYL ACETATE(EVA) EA33045 ...</td>\n",
       "      <td>LG CHEM  LTD  128 YEOUI-DAERO YEONGDEUNGPO-GU ...</td>\n",
       "      <td>CNHUA</td>\n",
       "      <td>40</td>\n",
       "      <td>(총 4건)</td>\n",
       "    </tr>\n",
       "    <tr>\n",
       "      <th>1</th>\n",
       "      <td>1168131734</td>\n",
       "      <td>390130</td>\n",
       "      <td>COMMODITY ETHYLENE VINYL ACETATE(EVA) EA33045 ...</td>\n",
       "      <td>LG CHEM  LTD  128 YEOUI-DAERO YEONGDEUNGPO-GU ...</td>\n",
       "      <td>CNHUA</td>\n",
       "      <td>40</td>\n",
       "      <td>(총 4건)</td>\n",
       "    </tr>\n",
       "    <tr>\n",
       "      <th>2</th>\n",
       "      <td>1168131734</td>\n",
       "      <td>390130</td>\n",
       "      <td>COMMODITY ETHYLENE VINYL ACETATE(EVA) EA33045 ...</td>\n",
       "      <td>LG CHEM  LTD  128 YEOUI-DAERO YEONGDEUNGPO-GU ...</td>\n",
       "      <td>CNHUA</td>\n",
       "      <td>40</td>\n",
       "      <td>(총 4건)</td>\n",
       "    </tr>\n",
       "    <tr>\n",
       "      <th>3</th>\n",
       "      <td>1168131734</td>\n",
       "      <td>390130</td>\n",
       "      <td>COMMODITY ETHYLENE VINYL ACETATE(EVA) EA33045 ...</td>\n",
       "      <td>LG CHEM  LTD  128 YEOUI-DAERO YEONGDEUNGPO-GU ...</td>\n",
       "      <td>CNHUA</td>\n",
       "      <td>40</td>\n",
       "      <td>(총 4건)</td>\n",
       "    </tr>\n",
       "  </tbody>\n",
       "</table>\n",
       "</div>"
      ],
      "text/plain": [
       "  국내화주(사업자번호)    품목코드                                                 품목  \\\n",
       "0  1168131734  390130  COMMODITY ETHYLENE VINYL ACETATE(EVA) EA33045 ...   \n",
       "1  1168131734  390130  COMMODITY ETHYLENE VINYL ACETATE(EVA) EA33045 ...   \n",
       "2  1168131734  390130  COMMODITY ETHYLENE VINYL ACETATE(EVA) EA33045 ...   \n",
       "3  1168131734  390130  COMMODITY ETHYLENE VINYL ACETATE(EVA) EA33045 ...   \n",
       "\n",
       "                                                 송하인    양하향 사이즈      수량  \n",
       "0  LG CHEM  LTD  128 YEOUI-DAERO YEONGDEUNGPO-GU ...  CNHUA  40  (총 4건)  \n",
       "1  LG CHEM  LTD  128 YEOUI-DAERO YEONGDEUNGPO-GU ...  CNHUA  40  (총 4건)  \n",
       "2  LG CHEM  LTD  128 YEOUI-DAERO YEONGDEUNGPO-GU ...  CNHUA  40  (총 4건)  \n",
       "3  LG CHEM  LTD  128 YEOUI-DAERO YEONGDEUNGPO-GU ...  CNHUA  40  (총 4건)  "
      ]
     },
     "execution_count": 80,
     "metadata": {},
     "output_type": "execute_result"
    }
   ],
   "source": [
    "lst1 =[]\n",
    "\n",
    "lst1.append(lst)\n",
    "lst1.append(lst)\n",
    "lst1.append(lst)\n",
    "lst1.append(lst)\n",
    "\n",
    "df = pd.DataFrame(lst1, columns=col)\n",
    "df"
   ]
  },
  {
   "cell_type": "code",
   "execution_count": 13,
   "metadata": {},
   "outputs": [],
   "source": [
    "# 리스트 버튼 클릭\n",
    "list_button_locator = (By.XPATH, '//*[@id=\"mf_tacMain_contents_M9033_body_tabControl_tab_tab1_tabHTML\"]')  # 버튼의 XPath 설정\n",
    "wait = WebDriverWait(driver, 10)  # 10초간 대기\n",
    "button = wait.until(EC.element_to_be_clickable(list_button_locator))  # 버튼이 클릭 가능할 때까지 대기\n",
    "button.click()"
   ]
  },
  {
   "cell_type": "code",
   "execution_count": null,
   "metadata": {},
   "outputs": [],
   "source": []
  },
  {
   "cell_type": "code",
   "execution_count": null,
   "metadata": {},
   "outputs": [],
   "source": []
  },
  {
   "cell_type": "code",
   "execution_count": null,
   "metadata": {},
   "outputs": [],
   "source": []
  },
  {
   "cell_type": "code",
   "execution_count": null,
   "metadata": {},
   "outputs": [],
   "source": []
  },
  {
   "cell_type": "code",
   "execution_count": null,
   "metadata": {},
   "outputs": [],
   "source": []
  },
  {
   "cell_type": "code",
   "execution_count": null,
   "metadata": {},
   "outputs": [],
   "source": []
  },
  {
   "cell_type": "code",
   "execution_count": null,
   "metadata": {},
   "outputs": [],
   "source": []
  },
  {
   "cell_type": "code",
   "execution_count": 42,
   "metadata": {},
   "outputs": [
    {
     "name": "stderr",
     "output_type": "stream",
     "text": [
      "C:\\Users\\user\\AppData\\Local\\Temp\\ipykernel_18728\\1519940800.py:2: DeprecationWarning: find_element_by_xpath is deprecated. Please use find_element(by=By.XPATH, value=xpath) instead\n",
      "  login_button = driver.find_element_by_xpath('//*[@id=\"mf_frameLogin1_btnLogin\"]')\n"
     ]
    },
    {
     "ename": "ElementNotInteractableException",
     "evalue": "Message: element not interactable\n  (Session info: chrome=111.0.5563.147)\nStacktrace:\nBacktrace:\n\t(No symbol) [0x008CDCE3]\n\t(No symbol) [0x008639D1]\n\t(No symbol) [0x00774C70]\n\t(No symbol) [0x007A10D6]\n\t(No symbol) [0x00798D05]\n\t(No symbol) [0x007BAECC]\n\t(No symbol) [0x00798726]\n\t(No symbol) [0x007BB224]\n\t(No symbol) [0x007CD57C]\n\t(No symbol) [0x007BACC6]\n\t(No symbol) [0x00796F68]\n\t(No symbol) [0x007980CD]\n\tGetHandleVerifier [0x00B43832+2506274]\n\tGetHandleVerifier [0x00B79794+2727300]\n\tGetHandleVerifier [0x00B7E36C+2746716]\n\tGetHandleVerifier [0x00976690+617600]\n\t(No symbol) [0x0086C712]\n\t(No symbol) [0x00871FF8]\n\t(No symbol) [0x008720DB]\n\t(No symbol) [0x0087C63B]\n\tBaseThreadInitThunk [0x759200F9+25]\n\tRtlGetAppContainerNamedObjectPath [0x770A7BBE+286]\n\tRtlGetAppContainerNamedObjectPath [0x770A7B8E+238]\n",
     "output_type": "error",
     "traceback": [
      "\u001b[1;31m---------------------------------------------------------------------------\u001b[0m",
      "\u001b[1;31mElementNotInteractableException\u001b[0m           Traceback (most recent call last)",
      "\u001b[1;32md:\\dev\\git\\crawler_tkj\\PKS\\portmis.ipynb Cell 8\u001b[0m in \u001b[0;36m<cell line: 3>\u001b[1;34m()\u001b[0m\n\u001b[0;32m      <a href='vscode-notebook-cell:/d%3A/dev/git/crawler_tkj/PKS/portmis.ipynb#X11sZmlsZQ%3D%3D?line=0'>1</a>\u001b[0m \u001b[39m# 로그인 버튼 클릭\u001b[39;00m\n\u001b[0;32m      <a href='vscode-notebook-cell:/d%3A/dev/git/crawler_tkj/PKS/portmis.ipynb#X11sZmlsZQ%3D%3D?line=1'>2</a>\u001b[0m login_button \u001b[39m=\u001b[39m driver\u001b[39m.\u001b[39mfind_element_by_xpath(\u001b[39m'\u001b[39m\u001b[39m//*[@id=\u001b[39m\u001b[39m\"\u001b[39m\u001b[39mmf_frameLogin1_btnLogin\u001b[39m\u001b[39m\"\u001b[39m\u001b[39m]\u001b[39m\u001b[39m'\u001b[39m)\n\u001b[1;32m----> <a href='vscode-notebook-cell:/d%3A/dev/git/crawler_tkj/PKS/portmis.ipynb#X11sZmlsZQ%3D%3D?line=2'>3</a>\u001b[0m login_button\u001b[39m.\u001b[39mclick()\n",
      "File \u001b[1;32md:\\dev\\git\\crawler_tkj\\.venv\\lib\\site-packages\\selenium\\webdriver\\remote\\webelement.py:81\u001b[0m, in \u001b[0;36mWebElement.click\u001b[1;34m(self)\u001b[0m\n\u001b[0;32m     79\u001b[0m \u001b[39mdef\u001b[39;00m \u001b[39mclick\u001b[39m(\u001b[39mself\u001b[39m) \u001b[39m-\u001b[39m\u001b[39m>\u001b[39m \u001b[39mNone\u001b[39;00m:\n\u001b[0;32m     80\u001b[0m     \u001b[39m\"\"\"Clicks the element.\"\"\"\u001b[39;00m\n\u001b[1;32m---> 81\u001b[0m     \u001b[39mself\u001b[39;49m\u001b[39m.\u001b[39;49m_execute(Command\u001b[39m.\u001b[39;49mCLICK_ELEMENT)\n",
      "File \u001b[1;32md:\\dev\\git\\crawler_tkj\\.venv\\lib\\site-packages\\selenium\\webdriver\\remote\\webelement.py:710\u001b[0m, in \u001b[0;36mWebElement._execute\u001b[1;34m(self, command, params)\u001b[0m\n\u001b[0;32m    708\u001b[0m     params \u001b[39m=\u001b[39m {}\n\u001b[0;32m    709\u001b[0m params[\u001b[39m'\u001b[39m\u001b[39mid\u001b[39m\u001b[39m'\u001b[39m] \u001b[39m=\u001b[39m \u001b[39mself\u001b[39m\u001b[39m.\u001b[39m_id\n\u001b[1;32m--> 710\u001b[0m \u001b[39mreturn\u001b[39;00m \u001b[39mself\u001b[39;49m\u001b[39m.\u001b[39;49m_parent\u001b[39m.\u001b[39;49mexecute(command, params)\n",
      "File \u001b[1;32md:\\dev\\git\\crawler_tkj\\.venv\\lib\\site-packages\\selenium\\webdriver\\remote\\webdriver.py:425\u001b[0m, in \u001b[0;36mWebDriver.execute\u001b[1;34m(self, driver_command, params)\u001b[0m\n\u001b[0;32m    423\u001b[0m response \u001b[39m=\u001b[39m \u001b[39mself\u001b[39m\u001b[39m.\u001b[39mcommand_executor\u001b[39m.\u001b[39mexecute(driver_command, params)\n\u001b[0;32m    424\u001b[0m \u001b[39mif\u001b[39;00m response:\n\u001b[1;32m--> 425\u001b[0m     \u001b[39mself\u001b[39;49m\u001b[39m.\u001b[39;49merror_handler\u001b[39m.\u001b[39;49mcheck_response(response)\n\u001b[0;32m    426\u001b[0m     response[\u001b[39m'\u001b[39m\u001b[39mvalue\u001b[39m\u001b[39m'\u001b[39m] \u001b[39m=\u001b[39m \u001b[39mself\u001b[39m\u001b[39m.\u001b[39m_unwrap_value(\n\u001b[0;32m    427\u001b[0m         response\u001b[39m.\u001b[39mget(\u001b[39m'\u001b[39m\u001b[39mvalue\u001b[39m\u001b[39m'\u001b[39m, \u001b[39mNone\u001b[39;00m))\n\u001b[0;32m    428\u001b[0m     \u001b[39mreturn\u001b[39;00m response\n",
      "File \u001b[1;32md:\\dev\\git\\crawler_tkj\\.venv\\lib\\site-packages\\selenium\\webdriver\\remote\\errorhandler.py:247\u001b[0m, in \u001b[0;36mErrorHandler.check_response\u001b[1;34m(self, response)\u001b[0m\n\u001b[0;32m    245\u001b[0m         alert_text \u001b[39m=\u001b[39m value[\u001b[39m'\u001b[39m\u001b[39malert\u001b[39m\u001b[39m'\u001b[39m]\u001b[39m.\u001b[39mget(\u001b[39m'\u001b[39m\u001b[39mtext\u001b[39m\u001b[39m'\u001b[39m)\n\u001b[0;32m    246\u001b[0m     \u001b[39mraise\u001b[39;00m exception_class(message, screen, stacktrace, alert_text)  \u001b[39m# type: ignore[call-arg]  # mypy is not smart enough here\u001b[39;00m\n\u001b[1;32m--> 247\u001b[0m \u001b[39mraise\u001b[39;00m exception_class(message, screen, stacktrace)\n",
      "\u001b[1;31mElementNotInteractableException\u001b[0m: Message: element not interactable\n  (Session info: chrome=111.0.5563.147)\nStacktrace:\nBacktrace:\n\t(No symbol) [0x008CDCE3]\n\t(No symbol) [0x008639D1]\n\t(No symbol) [0x00774C70]\n\t(No symbol) [0x007A10D6]\n\t(No symbol) [0x00798D05]\n\t(No symbol) [0x007BAECC]\n\t(No symbol) [0x00798726]\n\t(No symbol) [0x007BB224]\n\t(No symbol) [0x007CD57C]\n\t(No symbol) [0x007BACC6]\n\t(No symbol) [0x00796F68]\n\t(No symbol) [0x007980CD]\n\tGetHandleVerifier [0x00B43832+2506274]\n\tGetHandleVerifier [0x00B79794+2727300]\n\tGetHandleVerifier [0x00B7E36C+2746716]\n\tGetHandleVerifier [0x00976690+617600]\n\t(No symbol) [0x0086C712]\n\t(No symbol) [0x00871FF8]\n\t(No symbol) [0x008720DB]\n\t(No symbol) [0x0087C63B]\n\tBaseThreadInitThunk [0x759200F9+25]\n\tRtlGetAppContainerNamedObjectPath [0x770A7BBE+286]\n\tRtlGetAppContainerNamedObjectPath [0x770A7B8E+238]\n"
     ]
    }
   ],
   "source": [
    "# 로그인 버튼 클릭\n",
    "login_button = driver.find_element_by_xpath('//*[@id=\"mf_frameLogin1_btnLogin\"]')\n",
    "login_button.click()"
   ]
  },
  {
   "cell_type": "code",
   "execution_count": 18,
   "metadata": {},
   "outputs": [],
   "source": [
    "# 버튼 클릭\n",
    "button_locator = (By.XPATH, '//*[@id=\"mf_tacMain_contents_M4735_body_btnSearch\"]')  # 버튼의 XPath 설정\n",
    "wait = WebDriverWait(driver, 10)  # 10초간 대기\n",
    "button = wait.until(EC.element_to_be_clickable(button_locator))  # 버튼이 클릭 가능할 때까지 대기\n",
    "button.click()"
   ]
  },
  {
   "cell_type": "code",
   "execution_count": null,
   "metadata": {},
   "outputs": [],
   "source": []
  }
 ],
 "metadata": {
  "kernelspec": {
   "display_name": ".venv",
   "language": "python",
   "name": "python3"
  },
  "language_info": {
   "codemirror_mode": {
    "name": "ipython",
    "version": 3
   },
   "file_extension": ".py",
   "mimetype": "text/x-python",
   "name": "python",
   "nbconvert_exporter": "python",
   "pygments_lexer": "ipython3",
   "version": "3.8.10"
  },
  "orig_nbformat": 4,
  "vscode": {
   "interpreter": {
    "hash": "423aafdab972a6be29c9d2d2bdc3dba0d432d798e8c77bef2ab96f8970c2fbaa"
   }
  }
 },
 "nbformat": 4,
 "nbformat_minor": 2
}
