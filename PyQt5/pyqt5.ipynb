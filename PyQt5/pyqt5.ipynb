{
 "cells": [
  {
   "cell_type": "markdown",
   "metadata": {},
   "source": [
    "https://wikidocs.net/21923"
   ]
  },
  {
   "cell_type": "markdown",
   "metadata": {},
   "source": [
    "# 창 띄우기"
   ]
  },
  {
   "cell_type": "code",
   "execution_count": null,
   "metadata": {},
   "outputs": [],
   "source": [
    "import sys\n",
    "from PyQt5.QtWidgets import QApplication, QWidget\n",
    "\n",
    "class MyApp(QWidget) :\n",
    "    def __init__(self):\n",
    "        super().__init__()\n",
    "        self.initUI()\n",
    "\n",
    "    def initUI(self):\n",
    "        self.setWindowTitle('My First Application') # 타이틀바에 나타나는 창의 제목 설정\n",
    "        self.move(300, 300) # 위젯을 스크린의 300, 300위치로 이동\n",
    "        self.resize(400, 200) # 위젯의 크기를 너피 400, 높이 200으로 조절\n",
    "        self.show() # 위젯을 스크린에 보여줌\n",
    "\n",
    "if __name__ == '__main__': # 모듈의 이름이 저장되는 내장 변수. 만약 A.py라는 코드를 import 해서 예제 코드를 수행하면 __name__은 A가 됨. 그렇지 않고 코드를 직접 실행하면 __name__은 __main__이됨. 따라서 이 한줄의 코드를 통해 프로그램이 직접 실행되는지 혹은 모듈을 통해 실행되는지 확인\n",
    "    app = QApplication(sys.argv) # 어플리케이션 객체 생성\n",
    "    ex = MyApp()\n",
    "    sys.exit(app.exec_())\n",
    "\n"
   ]
  },
  {
   "cell_type": "markdown",
   "metadata": {},
   "source": [
    "# 아이콘 넣기"
   ]
  },
  {
   "cell_type": "code",
   "execution_count": null,
   "metadata": {},
   "outputs": [],
   "source": [
    "import sys\n",
    "from PyQt5.QtWidgets import QApplication, QWidget\n",
    "from PyQt5.QtGui import QIcon\n",
    "\n",
    "class MyApp(QWidget):\n",
    "\n",
    "    def __init__(self):\n",
    "        super().__init__()\n",
    "        self.initUI()\n",
    "\n",
    "    def initUI(self):\n",
    "        self.setWindowTitle(\"Icon\") \n",
    "        self.setWindowIcon(QIcon(\"web.png\")) # app 아이콘을 설정하도록 함\n",
    "        self.setGeometry(300, 300,300,300) # 창의 위치와 크기 설정. move()와 resize()를 합쳐놓은 것과 같음\n",
    "        self.show()\n",
    "\n",
    "if __name__ == '__main__' :\n",
    "    app = QApplication(sys.argv)\n",
    "    ex = MyApp()\n",
    "    sys.exit(app.exec())"
   ]
  },
  {
   "cell_type": "markdown",
   "metadata": {},
   "source": []
  }
 ],
 "metadata": {
  "language_info": {
   "name": "python"
  },
  "orig_nbformat": 4
 },
 "nbformat": 4,
 "nbformat_minor": 2
}
