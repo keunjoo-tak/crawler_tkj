{
 "cells": [
  {
   "cell_type": "markdown",
   "metadata": {},
   "source": [
    "https://wikidocs.net/21923"
   ]
  },
  {
   "cell_type": "markdown",
   "metadata": {},
   "source": [
    "# 창 띄우기"
   ]
  },
  {
   "cell_type": "code",
   "execution_count": null,
   "metadata": {},
   "outputs": [],
   "source": [
    "import sys\n",
    "from PyQt5.QtWidgets import QApplication, QWidget\n",
    "\n",
    "class MyApp(QWidget) :\n",
    "    def __init__(self):\n",
    "        super().__init__()\n",
    "        self.initUI()\n",
    "\n",
    "    def initUI(self):\n",
    "        self.setWindowTitle('My First Application') # 타이틀바에 나타나는 창의 제목 설정\n",
    "        self.move(300, 300) # 위젯을 스크린의 300, 300위치로 이동\n",
    "        self.resize(400, 200) # 위젯의 크기를 너피 400, 높이 200으로 조절\n",
    "        self.show() # 위젯을 스크린에 보여줌\n",
    "\n",
    "if __name__ == '__main__': # 모듈의 이름이 저장되는 내장 변수. 만약 A.py라는 코드를 import 해서 예제 코드를 수행하면 __name__은 A가 됨. 그렇지 않고 코드를 직접 실행하면 __name__은 __main__이됨. 따라서 이 한줄의 코드를 통해 프로그램이 직접 실행되는지 혹은 모듈을 통해 실행되는지 확인\n",
    "    app = QApplication(sys.argv) # 어플리케이션 객체 생성\n",
    "    ex = MyApp()\n",
    "    sys.exit(app.exec_())\n",
    "\n"
   ]
  },
  {
   "cell_type": "markdown",
   "metadata": {},
   "source": [
    "# 아이콘 넣기"
   ]
  },
  {
   "cell_type": "code",
   "execution_count": null,
   "metadata": {},
   "outputs": [],
   "source": [
    "import sys\n",
    "from PyQt5.QtWidgets import QApplication, QWidget\n",
    "from PyQt5.QtGui import QIcon\n",
    "\n",
    "class MyApp(QWidget):\n",
    "\n",
    "    def __init__(self):\n",
    "        super().__init__()\n",
    "        self.initUI()\n",
    "\n",
    "    def initUI(self):\n",
    "        self.setWindowTitle(\"Icon\") \n",
    "        self.setWindowIcon(QIcon(\"web.png\")) # app 아이콘을 설정하도록 함\n",
    "        self.setGeometry(300, 300,300,300) # 창의 위치와 크기 설정. move()와 resize()를 합쳐놓은 것과 같음\n",
    "        self.show()\n",
    "\n",
    "if __name__ == '__main__' :\n",
    "    app = QApplication(sys.argv)\n",
    "    ex = MyApp()\n",
    "    sys.exit(app.exec())"
   ]
  },
  {
   "cell_type": "markdown",
   "metadata": {},
   "source": [
    "# 창 닫기"
   ]
  },
  {
   "cell_type": "code",
   "execution_count": null,
   "metadata": {},
   "outputs": [],
   "source": [
    "import sys\n",
    "from PyQt5.QtWidgets import QApplication, QWidget, QPushButton\n",
    "from PyQt5.QtCore import QCoreApplication\n",
    "\n",
    "class MyApp(QWidget) :\n",
    "\n",
    "    def __init__(self) :\n",
    "        super().__init__()\n",
    "        self.initUI()\n",
    "\n",
    "    def initUI(self) :\n",
    "        btn = QPushButton('Quit', self) # 푸시버튼 생성, btn은 Qpushbutton 클래스의 인스턴스\n",
    "        btn.move(50, 50)\n",
    "        btn.resize(btn.sizeHint())\n",
    "        btn.clicked.connect(QCoreApplication.instance().quit) # 버튼(btn)을 클릭하면 'clicked'시그널이 만들어짐. instance()메서드는 현재 인스턴스를 반환. clicked 시그널은 quit()메서드에 연결됨. 발신자는 푸시버튼(btn)이고 수신자는 어플리케이션 객체(app)\n",
    "\n",
    "        self.setWindowTitle('Quit Button')\n",
    "        self.setGeometry(300,300,300,300)\n",
    "        self.show()\n",
    "\n",
    "if __name__ == '__main__':\n",
    "    app = QApplication(sys.argv)\n",
    "    ex = MyApp()\n",
    "    sys.exit(app.exec_())"
   ]
  },
  {
   "cell_type": "markdown",
   "metadata": {},
   "source": [
    "# 툴팁 나타내기"
   ]
  },
  {
   "cell_type": "code",
   "execution_count": null,
   "metadata": {},
   "outputs": [],
   "source": [
    "import sys\n",
    "from PyQt5.QtWidgets import QApplication, QWidget, QPushButton, QToolTip\n",
    "from PyQt5.QtGui import QFont\n",
    "\n",
    "\n",
    "class MyApp(QWidget):\n",
    "\n",
    "    def __init__(self):\n",
    "        super().__init__()\n",
    "        self.initUI()\n",
    "\n",
    "    def initUI(self):\n",
    "        QToolTip.setFont(QFont('SansSerif', 10)) # 툴팁에 사용될 폰트를 설정\n",
    "        self.setToolTip('This is a <b>QWidget</b> widget') # setToolTip() 메서드를 사용해서, 표시될 텍스트를 입력\n",
    "\n",
    "        btn = QPushButton('Button', self)\n",
    "        btn.setToolTip('This is a <b>QPushButton</b> widget') # 푸시버튼을 하나 만들고, 이 버튼에도 툴팁달기\n",
    "        btn.move(50, 50) # 버튼의 위치와 크기를 설정\n",
    "        btn.resize(btn.sizeHint()) # sizeHint() 메서드는 버튼을 적절한 크기로 설정\n",
    "\n",
    "        self.setWindowTitle('Tooltips')\n",
    "        self.setGeometry(300, 300, 300, 200)\n",
    "        self.show()\n",
    "\n",
    "\n",
    "if __name__ == '__main__':\n",
    "    app = QApplication(sys.argv)\n",
    "    ex = MyApp()\n",
    "    sys.exit(app.exec_())"
   ]
  },
  {
   "cell_type": "code",
   "execution_count": null,
   "metadata": {},
   "outputs": [],
   "source": []
  },
  {
   "cell_type": "markdown",
   "metadata": {},
   "source": [
    "# 상태바 만들기"
   ]
  },
  {
   "cell_type": "code",
   "execution_count": null,
   "metadata": {},
   "outputs": [],
   "source": [
    "import sys\n",
    "from PyQt5.QtWidgets import QApplication, QMainWindow\n",
    "\n",
    "\n",
    "class MyApp(QMainWindow):\n",
    "\n",
    "    def __init__(self):\n",
    "        super().__init__()\n",
    "        self.initUI()\n",
    "\n",
    "    def initUI(self):\n",
    "        self.statusBar().showMessage('Ready') # 상태바는 QMainWindow 클래스의 statusBar() 메서드를 이용해서 만드는데, statusBar() 메서드를 최초로 호출함으로써 만들어짐. 그 다음 호출부터는 상태바 객체를 반환. showMessage() 메서드를 통해 상태바에 보여질 메세지를 설정\n",
    "\n",
    "        self.setWindowTitle('Statusbar')\n",
    "        self.setGeometry(300, 300, 300, 200)\n",
    "        self.show()\n",
    "\n",
    "\n",
    "if __name__ == '__main__':\n",
    "    app = QApplication(sys.argv)\n",
    "    ex = MyApp()\n",
    "    sys.exit(app.exec_())"
   ]
  },
  {
   "cell_type": "markdown",
   "metadata": {},
   "source": []
  }
 ],
 "metadata": {
  "interpreter": {
   "hash": "4d8bc9e45fc60d0149fca7b5efcc3fb882f446b4653e7171bbc4cc4114fc329f"
  },
  "kernelspec": {
   "display_name": "Python 3.8.10 ('.venv': venv)",
   "language": "python",
   "name": "python3"
  },
  "language_info": {
   "codemirror_mode": {
    "name": "ipython",
    "version": 3
   },
   "file_extension": ".py",
   "mimetype": "text/x-python",
   "name": "python",
   "nbconvert_exporter": "python",
   "pygments_lexer": "ipython3",
   "version": "3.8.10"
  },
  "orig_nbformat": 4
 },
 "nbformat": 4,
 "nbformat_minor": 2
}
